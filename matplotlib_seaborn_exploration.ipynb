{
 "cells": [
  {
   "cell_type": "markdown",
   "id": "87979ad6",
   "metadata": {},
   "source": [
    "# Exploratory Data Analysis\n",
    "matplotlib  \n",
    "seaborn"
   ]
  },
  {
   "cell_type": "markdown",
   "id": "8ca98fb8",
   "metadata": {},
   "source": [
    "## Sanity checks\n",
    "### Data Description (Melbourne_Housing.csv) :\n",
    "\n",
    "The detailed data dictionary is given below:\n",
    "\n",
    "* Suburb - Suburb in which the property is located\n",
    "* Rooms - Number of rooms in the property\n",
    "* Type - Type of the property like \n",
    "    * h - house,cottage,villa, semi,terrace, \n",
    "    * t - townhouse,\n",
    "    * u - unit, duplex\n",
    "* SellerG - Name of the real estate agent who sold the property\n",
    "* Date - Date on which the property was sold\n",
    "* Distance - Distance of the property from CBD in kilometres. CBD is the central business district of the city.\n",
    "* Postcode - Postcode of the area\n",
    "* Bedroom - Number of bedrooms in the property\n",
    "* Bathroom - Number of bathrooms in the property\n",
    "* Car - Number of car parking spaces in the property\n",
    "* Landsize - Size of the land in square metres\n",
    "* BuildingArea - Size of the building in square metres (Generally, building size is smaller than land size since someone can have personal gardens and other things in the property.) \n",
    "* YearBuilt - Year in which the building was built\n",
    "* Regionname - Name of the region in which the property is located like Eastern Metropolitan, Western Metropolitan, Northern Victoria etc.\n",
    "* Propertycount - Number of properties that are present in the suburb\n",
    "* Price - price (in AUD) at which the property was sold"
   ]
  },
  {
   "cell_type": "code",
   "execution_count": 63,
   "id": "36261dc2",
   "metadata": {},
   "outputs": [
    {
     "name": "stdout",
     "output_type": "stream",
     "text": [
      "<class 'pandas.core.frame.DataFrame'>\n",
      "RangeIndex: 27114 entries, 0 to 27113\n",
      "Data columns (total 16 columns):\n",
      " #   Column         Non-Null Count  Dtype  \n",
      "---  ------         --------------  -----  \n",
      " 0   Suburb         27114 non-null  object \n",
      " 1   Rooms          27114 non-null  int64  \n",
      " 2   Type           27114 non-null  object \n",
      " 3   SellerG        27114 non-null  object \n",
      " 4   Date           27114 non-null  object \n",
      " 5   Distance       27113 non-null  float64\n",
      " 6   Postcode       27113 non-null  float64\n",
      " 7   Bedroom        20678 non-null  float64\n",
      " 8   Bathroom       20672 non-null  float64\n",
      " 9   Car            20297 non-null  float64\n",
      " 10  Landsize       17873 non-null  float64\n",
      " 11  BuildingArea   10543 non-null  object \n",
      " 12  YearBuilt      11985 non-null  float64\n",
      " 13  Regionname     27114 non-null  object \n",
      " 14  Propertycount  27114 non-null  int64  \n",
      " 15  Price          27114 non-null  int64  \n",
      "dtypes: float64(7), int64(3), object(6)\n",
      "memory usage: 3.3+ MB\n",
      "None\n",
      "******************************************************************************************************************************************************\n",
      "          Rooms  Distance  Postcode   Bedroom  Bathroom       Car  Landsize  YearBuilt  Propertycount        Price\n",
      "count 27114.000 27113.000 27113.000 20678.000 20672.000 20297.000 17873.000  11985.000      27114.000    27114.000\n",
      "mean      2.992    11.279  3113.783     3.046     1.592     1.716   560.537   1966.618       7564.205  1050563.546\n",
      "std       0.955     6.784   111.114     0.955     0.701     0.994  1411.309     36.042       4493.596   641578.487\n",
      "min       1.000     0.000  3000.000     0.000     0.000     0.000    50.000   1850.000         83.000    85000.000\n",
      "25%       2.000     6.400  3046.000     2.000     1.000     1.000   220.000   1950.000       4294.000   635000.000\n",
      "50%       3.000    10.500  3088.000     3.000     1.000     2.000   513.000   1970.000       6567.000   871000.000\n",
      "75%       4.000    14.000  3153.000     4.000     2.000     2.000   664.000   2000.000      10412.000  1300000.000\n",
      "max      16.000    48.100  3978.000    20.000     9.000    18.000 76000.000   2019.000      21650.000 11200000.000\n",
      "******************************************************************************************************************************************************\n",
      "         Suburb  Rooms Type        SellerG        Date  Distance  Postcode  Bedroom  Bathroom   Car  Landsize BuildingArea  YearBuilt             Regionname  Propertycount    Price\n",
      "0  Airport West      3    t         Nelson  03-09-2016    13.500  3042.000    3.000     2.000 1.000   303.000          225   2016.000   Western Metropolitan           3464   840000\n",
      "1   Albert Park      2    h  hockingstuart  03-09-2016     3.300  3206.000    2.000     1.000 0.000   120.000           82   1900.000  Southern Metropolitan           3280  1275000\n",
      "2   Albert Park      2    h        Thomson  03-09-2016     3.300  3206.000    2.000     1.000 0.000   159.000          inf        NaN  Southern Metropolitan           3280  1455000\n",
      "3    Alphington      4    h          Brace  03-09-2016     6.400  3078.000    3.000     2.000 4.000   853.000          263   1930.000  Northern Metropolitan           2211  2000000\n",
      "******************************************************************************************************************************************************\n",
      "                 Suburb  Rooms Type    SellerG        Date  Distance  Postcode  Bedroom  Bathroom   Car  Landsize BuildingArea  YearBuilt                  Regionname  Propertycount   Price\n",
      "27110         Reservoir      3    u         RW  30-09-2017    12.000  3073.000    3.000     1.000 1.000       NaN          105   1990.000       Northern Metropolitan          21650  475000\n",
      "27111     Roxburgh Park      4    h      Raine  30-09-2017    20.600  3064.000    4.000     2.000 2.000       NaN          225   1995.000       Northern Metropolitan           5833  591000\n",
      "27112  Springvale South      3    h  Harcourts  30-09-2017    22.200  3172.000    3.000     2.000 1.000   544.000          NaN        NaN  South-Eastern Metropolitan           4054  780500\n",
      "27113       Westmeadows      4    h      Barry  30-09-2017    16.500  3049.000    4.000     2.000 6.000   813.000          140   1960.000       Northern Metropolitan           2474  791000\n"
     ]
    }
   ],
   "source": [
    "# to help with reading and manipulating data\n",
    "import numpy as np\n",
    "import pandas as pd\n",
    "\n",
    "# data visualization\n",
    "import matplotlib.pyplot as plt\n",
    "import seaborn as sns\n",
    "\n",
    "# to restrict the float value to 3 decimal places\n",
    "pd.set_option('display.float_format', lambda x: '%.3f' % x)\n",
    "\n",
    "# display cell output\n",
    "pd.set_option('display.width', 300)\n",
    "\n",
    "data = pd.read_csv('data/Melbourne_Housing.csv')\n",
    "print(data.info())\n",
    "print('*****' * 30)\n",
    "print(data.describe())\n",
    "print('*****' * 30)\n",
    "print(data.head(4))\n",
    "print('*****' * 30)\n",
    "print(data.tail(4))"
   ]
  },
  {
   "cell_type": "code",
   "execution_count": 24,
   "id": "b0a14234",
   "metadata": {},
   "outputs": [
    {
     "name": "stdout",
     "output_type": "stream",
     "text": [
      "347\n",
      "******************************************************************************************************************************************************\n",
      "SellerG\n",
      "Nelson           2733\n",
      "Jellis           2517\n",
      "Barry            2386\n",
      "hockingstuart    2096\n",
      "Ray              1574\n",
      "                 ... \n",
      "Allan               1\n",
      "Jim                 1\n",
      "iProperty           1\n",
      "Batty               1\n",
      "Icon                1\n",
      "Name: count, Length: 347, dtype: int64\n",
      "******************************************************************************************************************************************************\n",
      "               Suburb  Rooms Type     SellerG       Date  Distance  Postcode  Bedroom  Bathroom   Car  Landsize BuildingArea  YearBuilt             Regionname  Propertycount    Price\n",
      "316    Bentleigh East      4    t      Buxton 2016-12-03    13.900  3165.000      NaN       NaN   NaN       NaN          NaN        NaN  Southern Metropolitan          10969  1200000\n",
      "2259         Watsonia      3    h  Buckingham 2016-09-10    14.900  3087.000    3.000     1.000 1.000   591.000          104   1960.000  Northern Metropolitan           2329   740000\n",
      "455      Malvern East      2    h      Biggin 2016-12-03    11.200  3145.000    2.000     1.000 1.000   310.000          102   1910.000  Southern Metropolitan           8801  1036000\n",
      "11513  Mount Waverley      3    h      Jellis 2017-10-14    14.200  3149.000    3.000     1.000 1.000       NaN          NaN        NaN   Eastern Metropolitan          13366  1360000\n",
      "16682          Toorak      3    u          RT 2017-11-18     4.100  3142.000      NaN       NaN   NaN       NaN          NaN        NaN  Southern Metropolitan           7217  2000000\n",
      "******************************************************************************************************************************************************\n",
      "SellerG\n",
      "@Realty          7920500\n",
      "AIME              980000\n",
      "ASL              6135500\n",
      "Abercromby's    67367000\n",
      "Ace              2515000\n",
      "                  ...   \n",
      "iHomes           1065000\n",
      "iOne              620000\n",
      "iProperty         820000\n",
      "iSell           18079000\n",
      "iTRAK           23897700\n",
      "Name: Price, Length: 347, dtype: int64\n",
      "******************************************************************************************************************************************************\n",
      "6135500\n"
     ]
    }
   ],
   "source": [
    "# Unique sellers\n",
    "print(len(data['SellerG'].unique()))\n",
    "print('*****' * 30)\n",
    "print(data['SellerG'].value_counts())\n",
    "print('*****' * 30)\n",
    "data['Date'] = pd.to_datetime(data['Date'], dayfirst=True)\n",
    "print(data.sample(5))\n",
    "print('*****' * 30)\n",
    "print(data.groupby(['SellerG'])['Price'].sum())\n",
    "print('*****' * 30)\n",
    "print(data[data['SellerG'] == 'ASL']['Price'].sum())\n"
   ]
  },
  {
   "cell_type": "code",
   "execution_count": 31,
   "id": "7bf56e2e",
   "metadata": {},
   "outputs": [
    {
     "name": "stdout",
     "output_type": "stream",
     "text": [
      "['225' '82' 'inf' '263' '242' '251' '117' 'missing' '76' '399' '118' '103'\n",
      " '180' '123' '218' '129' '167' '154' '275' '121' nan '125' '255' '75'\n",
      " '156' '240' '268' '108' '69' '140' '214' '253' '189' '215' '96' '104'\n",
      " '100' '313' '144' '93' '110' '70' '122' '51' '147' '113' '83' '56' '137'\n",
      " '85' '64' '175' '3558' '170' '265' '353' '138' '19' '116' '87' '74' '320'\n",
      " '300' '210' '120' '86' '97' '200' '106' '14' '161' '128' '185' '146'\n",
      " '133' '115' '143' '150' '195' '236' '276' '188' '179' '249' '141' '34'\n",
      " '73' '107' '84' '81' '207' '50' '264' '312' '235' '221' '183' '132' '160'\n",
      " '186' '78' '105' '145' '62' '220' '315' '181' '61' '112' '420' '226'\n",
      " '266' '410' '449' '356' '477' '250' '95' '190' '284' '247' '213' '209'\n",
      " '119' '111' '130' '348' '166' '44' '176' '98' '159' '79' '71' '60' '33'\n",
      " '89' '217' '127' '187' '109' '53' '201' '12' '63' '223' '102' '254' '327'\n",
      " '16' '165' '65' '139' '134' '280' '67' '272' '38' '153' '66' '152' '135'\n",
      " '374' '163' '124' '233' '39' '151' '279' '136' '405' '199' '158' '126'\n",
      " '80' '57' '36' '142' '77' '435' '92' '149' '114' '349' '178' '594' '274'\n",
      " '40' '68' '164' '204' '94' '257' '323' '314' '378' '55' '91' '309' '88'\n",
      " '58' '172' '211' '148' '49' '52' '174' '191' '335' '808' '168' '203'\n",
      " '520' '212' '222' '171' '228' '101' '267' '90' '196' '157' '99' '256'\n",
      " '15' '155' '162' '72' '252' '330' '177' '341' '197' '340' '182' '245'\n",
      " '270' '42' '229' '232' '131' '297' '237' '194' '173' '46' '360' '205'\n",
      " '45' '365' '321' '37' '304' '54' '305' '244' '43' '41' '22' '169' '59'\n",
      " '258' '230' '287' '618' '792' '355' '202' '395' '351' '325' '248' '224'\n",
      " '426' '286' '308' '198' '260' '291' '277' '281' '216' '262' '364' '30'\n",
      " '192' '47' '184' '25' '558' '362' '375' '347' '241' '475' '413' '400'\n",
      " '101.37' '219' '239' '123.21' '140.7481' '86.5' '30.6' '225.5' '322'\n",
      " '409.54' '26' '156.6' '227.6' '104.63' '193' '443' '167.13' '148.5'\n",
      " '270.18' '53.3' '98.5' '157.9351' '328' '94.3' '21' '310' '95.88' '261'\n",
      " '105.7' '72.9' '45.4' '221.3' '113.2' '186.75' '540' '127.8' '231'\n",
      " '106.4' '311' '234' '332' '206' '259' '246' '296' '269' '306' '380' '302'\n",
      " '48' '278' '35' '208' '467' '283' '458' '196.8' '106.2' '32' '424' '430'\n",
      " '243' '290' '511' '500' '531' '508' '333' '72.3' '66.23' '101.51' '292'\n",
      " '112.9' '99.5' '77.5' '293' '105.23' '352' '391' '121.8' '82.6' '136.49'\n",
      " '502' '680' '157.9352' '126.8' '100.6' '44.4' '151.54' '20' '397' '495'\n",
      " '331' '294' '334' '303' '318' '273' '584' '958' '288' '342' '354' '350'\n",
      " '465' '337' '317' '298' '529' '697' '289' '602' '6791' '534' '227' '429'\n",
      " '802' '373' '358' '238' '316' '393' '180.9' '826.8367' '366' '307' '625'\n",
      " '419' '94.5' '392' '28' '116.65' '11' '134.6' '282' '183.84' '431'\n",
      " '126.7' '18' '295' '390' '447' '271' '416' '370' '660' '463' '361' '496'\n",
      " '324' '173.45' '134.3' '464.3' '76.77' '113.76' '107.4' '255.79' '186.36'\n",
      " '490' '103.6' '63.7' '106.76' '39.5' '423' '319' '437' '285' '453' '472'\n",
      " '418' '487' '31' '301' '116.4' '182.85' '109.5' '129.7' '665' '398'\n",
      " '148.47' '553' '182.9' '184.75' '193.74' '68.5' '336' '346' '719' '3112'\n",
      " '414' '372' '525' '367' '1561' '454' '720' '329' '381' '677' '439' '857'\n",
      " '23' '503' '432' '377' '512' '425' '406' '389' '521' '6178' '654' '727'\n",
      " '417' '560' '168.01' '306.19' '515.78' '196.1' '789' '131.27' '167.87'\n",
      " '183.97' '199.5' '29' '446' '75.45' '165.5' '263.5' '585' '516' '345'\n",
      " '27' '444' '427' '326' '518' '13' '411' '1022' '339' '461' '376' '513'\n",
      " '836' '464' '386' '603' '613' '179.3' '142.6' '147.2' '225.98' '113.81'\n",
      " '401' '737' '530' '82.3' '110.87' '450' '673' '109.98' '122.25' '105.9'\n",
      " '101.7' '106.9' '93.82' '132.6' '154.3' '178.74' '88.3' '80.7' '89.25'\n",
      " '181.6' '104.4' '180.56' '123.5' '1143' '506' '575' '859' '653' '999'\n",
      " '445' '438' '686' '649' '736' '371.6122' '199.73' '118.54' '298.21'\n",
      " '169.5' '42.2' '135.5' '266.76' '272.4' '177.8' '139.4' '700' '766' '538'\n",
      " '528' '650' '368' '544' '557' '396' '638' '101.76' '363' '634' '195.0964'\n",
      " '470' '130.52' '547' '111.04' '63.4' '92.5' '115.96' '121.84' '122.86'\n",
      " '114.2' '266.53' '78.54' '85.35' '1041' '607' '478' '407' '344' '338'\n",
      " '501' '448' '357' '408' '412' '466' '739' '614' '421' '385' '68.11'\n",
      " '153.1' '85.2' '93.84' '124.45' '210.68' '200.71' '81.79' '934' '129.92'\n",
      " '43.7' '113.6' '66.32' '35.64' '61.6' '388.5' '672']\n",
      "******************************************************************************************************************************************************\n",
      "BuildingArea\n",
      "<class 'float'>    16571\n",
      "<class 'str'>      10543\n",
      "Name: count, dtype: int64\n",
      "******************************************************************************************************************************************************\n",
      "<class 'pandas.core.series.Series'>\n",
      "RangeIndex: 27114 entries, 0 to 27113\n",
      "Series name: BuildingArea\n",
      "Non-Null Count  Dtype  \n",
      "--------------  -----  \n",
      "10529 non-null  float64\n",
      "dtypes: float64(1)\n",
      "memory usage: 212.0 KB\n",
      "None\n",
      "******************************************************************************************************************************************************\n",
      "BuildingArea\n",
      "<class 'float'>    27114\n",
      "Name: count, dtype: int64\n"
     ]
    }
   ],
   "source": [
    "print(data['BuildingArea'].unique())\n",
    "print('*****' * 30)\n",
    "# checking the count of different data types in buildingArea column\n",
    "print(data['BuildingArea'].apply(type).value_counts())\n",
    "print('*****' * 30)\n",
    "# replacing values with nan\n",
    "data['BuildingArea'] = data['BuildingArea'].replace(['missing','inf'], np.nan)\n",
    "# changing the data type to float\n",
    "data['BuildingArea'] = data['BuildingArea'].astype(float)\n",
    "print(data['BuildingArea'].info())\n",
    "print('*****' * 30)\n",
    "print(data['BuildingArea'].apply(type).value_counts())"
   ]
  },
  {
   "cell_type": "code",
   "execution_count": 32,
   "id": "4757b6e1",
   "metadata": {},
   "outputs": [
    {
     "name": "stdout",
     "output_type": "stream",
     "text": [
      "<class 'pandas.core.frame.DataFrame'>\n",
      "RangeIndex: 27114 entries, 0 to 27113\n",
      "Data columns (total 16 columns):\n",
      " #   Column         Non-Null Count  Dtype         \n",
      "---  ------         --------------  -----         \n",
      " 0   Suburb         27114 non-null  object        \n",
      " 1   Rooms          27114 non-null  int64         \n",
      " 2   Type           27114 non-null  object        \n",
      " 3   SellerG        27114 non-null  object        \n",
      " 4   Date           27114 non-null  datetime64[ns]\n",
      " 5   Distance       27113 non-null  float64       \n",
      " 6   Postcode       27113 non-null  float64       \n",
      " 7   Bedroom        20678 non-null  float64       \n",
      " 8   Bathroom       20672 non-null  float64       \n",
      " 9   Car            20297 non-null  float64       \n",
      " 10  Landsize       17873 non-null  float64       \n",
      " 11  BuildingArea   10529 non-null  float64       \n",
      " 12  YearBuilt      11985 non-null  float64       \n",
      " 13  Regionname     27114 non-null  object        \n",
      " 14  Propertycount  27114 non-null  int64         \n",
      " 15  Price          27114 non-null  int64         \n",
      "dtypes: datetime64[ns](1), float64(8), int64(3), object(4)\n",
      "memory usage: 3.3+ MB\n",
      "None\n"
     ]
    }
   ],
   "source": [
    "print(data.info())"
   ]
  },
  {
   "cell_type": "code",
   "execution_count": 35,
   "id": "c8cb595d",
   "metadata": {},
   "outputs": [
    {
     "name": "stdout",
     "output_type": "stream",
     "text": [
      "<class 'pandas.core.frame.DataFrame'>\n",
      "RangeIndex: 27114 entries, 0 to 27113\n",
      "Data columns (total 16 columns):\n",
      " #   Column         Non-Null Count  Dtype  \n",
      "---  ------         --------------  -----  \n",
      " 0   Suburb         27114 non-null  object \n",
      " 1   Rooms          27114 non-null  int64  \n",
      " 2   Type           27114 non-null  object \n",
      " 3   SellerG        27114 non-null  object \n",
      " 4   Date           27114 non-null  object \n",
      " 5   Distance       27113 non-null  float64\n",
      " 6   Postcode       27113 non-null  float64\n",
      " 7   Bedroom        20678 non-null  float64\n",
      " 8   Bathroom       20672 non-null  float64\n",
      " 9   Car            20297 non-null  float64\n",
      " 10  Landsize       17873 non-null  float64\n",
      " 11  BuildingArea   10529 non-null  float64\n",
      " 12  YearBuilt      11985 non-null  float64\n",
      " 13  Regionname     27114 non-null  object \n",
      " 14  Propertycount  27114 non-null  int64  \n",
      " 15  Price          27114 non-null  int64  \n",
      "dtypes: float64(8), int64(3), object(5)\n",
      "memory usage: 3.3+ MB\n",
      "None\n",
      "[ 225.       82.           nan  263.      242.      251.      117.\n",
      "   76.      399.      118.      103.      180.      123.      218.\n",
      "  129.      167.      154.      275.      121.      125.      255.\n",
      "   75.      156.      240.      268.      108.       69.      140.\n",
      "  214.      253.      189.      215.       96.      104.      100.\n",
      "  313.      144.       93.      110.       70.      122.       51.\n",
      "  147.      113.       83.       56.      137.       85.       64.\n",
      "  175.     3558.      170.      265.      353.      138.       19.\n",
      "  116.       87.       74.      320.      300.      210.      120.\n",
      "   86.       97.      200.      106.       14.      161.      128.\n",
      "  185.      146.      133.      115.      143.      150.      195.\n",
      "  236.      276.      188.      179.      249.      141.       34.\n",
      "   73.      107.       84.       81.      207.       50.      264.\n",
      "  312.      235.      221.      183.      132.      160.      186.\n",
      "   78.      105.      145.       62.      220.      315.      181.\n",
      "   61.      112.      420.      226.      266.      410.      449.\n",
      "  356.      477.      250.       95.      190.      284.      247.\n",
      "  213.      209.      119.      111.      130.      348.      166.\n",
      "   44.      176.       98.      159.       79.       71.       60.\n",
      "   33.       89.      217.      127.      187.      109.       53.\n",
      "  201.       12.       63.      223.      102.      254.      327.\n",
      "   16.      165.       65.      139.      134.      280.       67.\n",
      "  272.       38.      153.       66.      152.      135.      374.\n",
      "  163.      124.      233.       39.      151.      279.      136.\n",
      "  405.      199.      158.      126.       80.       57.       36.\n",
      "  142.       77.      435.       92.      149.      114.      349.\n",
      "  178.      594.      274.       40.       68.      164.      204.\n",
      "   94.      257.      323.      314.      378.       55.       91.\n",
      "  309.       88.       58.      172.      211.      148.       49.\n",
      "   52.      174.      191.      335.      808.      168.      203.\n",
      "  520.      212.      222.      171.      228.      101.      267.\n",
      "   90.      196.      157.       99.      256.       15.      155.\n",
      "  162.       72.      252.      330.      177.      341.      197.\n",
      "  340.      182.      245.      270.       42.      229.      232.\n",
      "  131.      297.      237.      194.      173.       46.      360.\n",
      "  205.       45.      365.      321.       37.      304.       54.\n",
      "  305.      244.       43.       41.       22.      169.       59.\n",
      "  258.      230.      287.      618.      792.      355.      202.\n",
      "  395.      351.      325.      248.      224.      426.      286.\n",
      "  308.      198.      260.      291.      277.      281.      216.\n",
      "  262.      364.       30.      192.       47.      184.       25.\n",
      "  558.      362.      375.      347.      241.      475.      413.\n",
      "  400.      101.37    219.      239.      123.21    140.7481   86.5\n",
      "   30.6     225.5     322.      409.54     26.      156.6     227.6\n",
      "  104.63    193.      443.      167.13    148.5     270.18     53.3\n",
      "   98.5     157.9351  328.       94.3      21.      310.       95.88\n",
      "  261.      105.7      72.9      45.4     221.3     113.2     186.75\n",
      "  540.      127.8     231.      106.4     311.      234.      332.\n",
      "  206.      259.      246.      296.      269.      306.      380.\n",
      "  302.       48.      278.       35.      208.      467.      283.\n",
      "  458.      196.8     106.2      32.      424.      430.      243.\n",
      "  290.      511.      500.      531.      508.      333.       72.3\n",
      "   66.23    101.51    292.      112.9      99.5      77.5     293.\n",
      "  105.23    352.      391.      121.8      82.6     136.49    502.\n",
      "  680.      157.9352  126.8     100.6      44.4     151.54     20.\n",
      "  397.      495.      331.      294.      334.      303.      318.\n",
      "  273.      584.      958.      288.      342.      354.      350.\n",
      "  465.      337.      317.      298.      529.      697.      289.\n",
      "  602.     6791.      534.      227.      429.      802.      373.\n",
      "  358.      238.      316.      393.      180.9     826.8367  366.\n",
      "  307.      625.      419.       94.5     392.       28.      116.65\n",
      "   11.      134.6     282.      183.84    431.      126.7      18.\n",
      "  295.      390.      447.      271.      416.      370.      660.\n",
      "  463.      361.      496.      324.      173.45    134.3     464.3\n",
      "   76.77    113.76    107.4     255.79    186.36    490.      103.6\n",
      "   63.7     106.76     39.5     423.      319.      437.      285.\n",
      "  453.      472.      418.      487.       31.      301.      116.4\n",
      "  182.85    109.5     129.7     665.      398.      148.47    553.\n",
      "  182.9     184.75    193.74     68.5     336.      346.      719.\n",
      " 3112.      414.      372.      525.      367.     1561.      454.\n",
      "  720.      329.      381.      677.      439.      857.       23.\n",
      "  503.      432.      377.      512.      425.      406.      389.\n",
      "  521.     6178.      654.      727.      417.      560.      168.01\n",
      "  306.19    515.78    196.1     789.      131.27    167.87    183.97\n",
      "  199.5      29.      446.       75.45    165.5     263.5     585.\n",
      "  516.      345.       27.      444.      427.      326.      518.\n",
      "   13.      411.     1022.      339.      461.      376.      513.\n",
      "  836.      464.      386.      603.      613.      179.3     142.6\n",
      "  147.2     225.98    113.81    401.      737.      530.       82.3\n",
      "  110.87    450.      673.      109.98    122.25    105.9     101.7\n",
      "  106.9      93.82    132.6     154.3     178.74     88.3      80.7\n",
      "   89.25    181.6     104.4     180.56    123.5    1143.      506.\n",
      "  575.      859.      653.      999.      445.      438.      686.\n",
      "  649.      736.      371.6122  199.73    118.54    298.21    169.5\n",
      "   42.2     135.5     266.76    272.4     177.8     139.4     700.\n",
      "  766.      538.      528.      650.      368.      544.      557.\n",
      "  396.      638.      101.76    363.      634.      195.0964  470.\n",
      "  130.52    547.      111.04     63.4      92.5     115.96    121.84\n",
      "  122.86    114.2     266.53     78.54     85.35   1041.      607.\n",
      "  478.      407.      344.      338.      501.      448.      357.\n",
      "  408.      412.      466.      739.      614.      421.      385.\n",
      "   68.11    153.1      85.2      93.84    124.45    210.68    200.71\n",
      "   81.79    934.      129.92     43.7     113.6      66.32     35.64\n",
      "   61.6     388.5     672.    ]\n"
     ]
    }
   ],
   "source": [
    "# We could have also done replacement of 'missing' and 'inf' to NaN while loading data by using na_values parameter of read_csv function.\n",
    "# eg use\n",
    "data_new = pd.read_csv('data/Melbourne_Housing.csv', na_values=['missing','inf'])\n",
    "print(data_new.info())\n",
    "print(data_new['BuildingArea'].unique())"
   ]
  },
  {
   "cell_type": "markdown",
   "id": "8404d626",
   "metadata": {},
   "source": [
    "## Sanity checks - Part2\n",
    "Missing value treatment  \n",
    "Remove duplicate entries in data  \n",
    "Check the count and Percentage of categorical levels in each column  "
   ]
  },
  {
   "cell_type": "code",
   "execution_count": 64,
   "id": "c64d0359",
   "metadata": {},
   "outputs": [
    {
     "data": {
      "text/plain": [
       "Suburb               0\n",
       "Rooms                0\n",
       "Type                 0\n",
       "SellerG              0\n",
       "Date                 0\n",
       "Distance             1\n",
       "Postcode             1\n",
       "Bedroom           6436\n",
       "Bathroom          6442\n",
       "Car               6817\n",
       "Landsize          9241\n",
       "BuildingArea     16571\n",
       "YearBuilt        15129\n",
       "Regionname           0\n",
       "Propertycount        0\n",
       "Price                0\n",
       "dtype: int64"
      ]
     },
     "execution_count": 64,
     "metadata": {},
     "output_type": "execute_result"
    }
   ],
   "source": [
    "# Check for missing values in the data\n",
    "data.isnull().sum()"
   ]
  },
  {
   "cell_type": "code",
   "execution_count": 65,
   "id": "bfeb69ba",
   "metadata": {},
   "outputs": [
    {
     "data": {
      "text/plain": [
       "np.int64(11)"
      ]
     },
     "execution_count": 65,
     "metadata": {},
     "output_type": "execute_result"
    }
   ],
   "source": [
    "# Check for duplicate entries in the data\n",
    "data.duplicated().sum()"
   ]
  },
  {
   "cell_type": "code",
   "execution_count": 66,
   "id": "080a6f45",
   "metadata": {},
   "outputs": [
    {
     "name": "stdout",
     "output_type": "stream",
     "text": [
      "0\n",
      "******************************************************************************************************************************************************\n",
      "         Suburb  Rooms Type        SellerG        Date  Distance  Postcode  Bedroom  Bathroom   Car  Landsize BuildingArea  YearBuilt             Regionname  Propertycount    Price\n",
      "0  Airport West      3    t         Nelson  03-09-2016    13.500  3042.000    3.000     2.000 1.000   303.000          225   2016.000   Western Metropolitan           3464   840000\n",
      "1   Albert Park      2    h  hockingstuart  03-09-2016     3.300  3206.000    2.000     1.000 0.000   120.000           82   1900.000  Southern Metropolitan           3280  1275000\n",
      "2   Albert Park      2    h        Thomson  03-09-2016     3.300  3206.000    2.000     1.000 0.000   159.000          inf        NaN  Southern Metropolitan           3280  1455000\n",
      "3    Alphington      4    h          Brace  03-09-2016     6.400  3078.000    3.000     2.000 4.000   853.000          263   1930.000  Northern Metropolitan           2211  2000000\n",
      "4    Alphington      3    h         Jellis  03-09-2016     6.400  3078.000    3.000     2.000 2.000   208.000          inf   2013.000  Northern Metropolitan           2211  1110000\n"
     ]
    }
   ],
   "source": [
    "# dropping duplicates entries from the data\n",
    "data.drop_duplicates(inplace=True)\n",
    "print(data.duplicated().sum())\n",
    "print('*****' * 30)\n",
    "print(data.head(5))"
   ]
  },
  {
   "cell_type": "code",
   "execution_count": 67,
   "id": "66c84096",
   "metadata": {},
   "outputs": [
    {
     "name": "stdout",
     "output_type": "stream",
     "text": [
      "******************************************************************************************************************************************************\n",
      "         Suburb  Rooms Type        SellerG        Date  Distance  Postcode  Bedroom  Bathroom   Car  Landsize BuildingArea  YearBuilt             Regionname  Propertycount    Price\n",
      "0  Airport West      3    t         Nelson  03-09-2016    13.500  3042.000    3.000     2.000 1.000   303.000          225   2016.000   Western Metropolitan           3464   840000\n",
      "1   Albert Park      2    h  hockingstuart  03-09-2016     3.300  3206.000    2.000     1.000 0.000   120.000           82   1900.000  Southern Metropolitan           3280  1275000\n",
      "2   Albert Park      2    h        Thomson  03-09-2016     3.300  3206.000    2.000     1.000 0.000   159.000          inf        NaN  Southern Metropolitan           3280  1455000\n",
      "3    Alphington      4    h          Brace  03-09-2016     6.400  3078.000    3.000     2.000 4.000   853.000          263   1930.000  Northern Metropolitan           2211  2000000\n",
      "4    Alphington      3    h         Jellis  03-09-2016     6.400  3078.000    3.000     2.000 2.000   208.000          inf   2013.000  Northern Metropolitan           2211  1110000\n"
     ]
    }
   ],
   "source": [
    "# resetting the index of data frame since some rows will be removed\n",
    "data.reset_index(drop=True, inplace=True)\n",
    "print('*****' * 30)\n",
    "print(data.head(5))"
   ]
  },
  {
   "cell_type": "code",
   "execution_count": 69,
   "id": "8b3c3941",
   "metadata": {},
   "outputs": [
    {
     "data": {
      "text/html": [
       "<div>\n",
       "<style scoped>\n",
       "    .dataframe tbody tr th:only-of-type {\n",
       "        vertical-align: middle;\n",
       "    }\n",
       "\n",
       "    .dataframe tbody tr th {\n",
       "        vertical-align: top;\n",
       "    }\n",
       "\n",
       "    .dataframe thead th {\n",
       "        text-align: right;\n",
       "    }\n",
       "</style>\n",
       "<table border=\"1\" class=\"dataframe\">\n",
       "  <thead>\n",
       "    <tr style=\"text-align: right;\">\n",
       "      <th></th>\n",
       "      <th>count</th>\n",
       "      <th>mean</th>\n",
       "      <th>std</th>\n",
       "      <th>min</th>\n",
       "      <th>25%</th>\n",
       "      <th>50%</th>\n",
       "      <th>75%</th>\n",
       "      <th>max</th>\n",
       "    </tr>\n",
       "  </thead>\n",
       "  <tbody>\n",
       "    <tr>\n",
       "      <th>Rooms</th>\n",
       "      <td>27103.000</td>\n",
       "      <td>2.992</td>\n",
       "      <td>0.955</td>\n",
       "      <td>1.000</td>\n",
       "      <td>2.000</td>\n",
       "      <td>3.000</td>\n",
       "      <td>4.000</td>\n",
       "      <td>16.000</td>\n",
       "    </tr>\n",
       "    <tr>\n",
       "      <th>Distance</th>\n",
       "      <td>27102.000</td>\n",
       "      <td>11.280</td>\n",
       "      <td>6.784</td>\n",
       "      <td>0.000</td>\n",
       "      <td>6.400</td>\n",
       "      <td>10.500</td>\n",
       "      <td>14.000</td>\n",
       "      <td>48.100</td>\n",
       "    </tr>\n",
       "    <tr>\n",
       "      <th>Postcode</th>\n",
       "      <td>27102.000</td>\n",
       "      <td>3113.787</td>\n",
       "      <td>111.129</td>\n",
       "      <td>3000.000</td>\n",
       "      <td>3046.000</td>\n",
       "      <td>3088.000</td>\n",
       "      <td>3153.000</td>\n",
       "      <td>3978.000</td>\n",
       "    </tr>\n",
       "    <tr>\n",
       "      <th>Bedroom</th>\n",
       "      <td>20678.000</td>\n",
       "      <td>3.046</td>\n",
       "      <td>0.955</td>\n",
       "      <td>0.000</td>\n",
       "      <td>2.000</td>\n",
       "      <td>3.000</td>\n",
       "      <td>4.000</td>\n",
       "      <td>20.000</td>\n",
       "    </tr>\n",
       "    <tr>\n",
       "      <th>Bathroom</th>\n",
       "      <td>20672.000</td>\n",
       "      <td>1.592</td>\n",
       "      <td>0.701</td>\n",
       "      <td>0.000</td>\n",
       "      <td>1.000</td>\n",
       "      <td>1.000</td>\n",
       "      <td>2.000</td>\n",
       "      <td>9.000</td>\n",
       "    </tr>\n",
       "    <tr>\n",
       "      <th>Car</th>\n",
       "      <td>20297.000</td>\n",
       "      <td>1.716</td>\n",
       "      <td>0.994</td>\n",
       "      <td>0.000</td>\n",
       "      <td>1.000</td>\n",
       "      <td>2.000</td>\n",
       "      <td>2.000</td>\n",
       "      <td>18.000</td>\n",
       "    </tr>\n",
       "    <tr>\n",
       "      <th>Landsize</th>\n",
       "      <td>17873.000</td>\n",
       "      <td>560.537</td>\n",
       "      <td>1411.309</td>\n",
       "      <td>50.000</td>\n",
       "      <td>220.000</td>\n",
       "      <td>513.000</td>\n",
       "      <td>664.000</td>\n",
       "      <td>76000.000</td>\n",
       "    </tr>\n",
       "    <tr>\n",
       "      <th>YearBuilt</th>\n",
       "      <td>11985.000</td>\n",
       "      <td>1966.618</td>\n",
       "      <td>36.042</td>\n",
       "      <td>1850.000</td>\n",
       "      <td>1950.000</td>\n",
       "      <td>1970.000</td>\n",
       "      <td>2000.000</td>\n",
       "      <td>2019.000</td>\n",
       "    </tr>\n",
       "    <tr>\n",
       "      <th>Propertycount</th>\n",
       "      <td>27103.000</td>\n",
       "      <td>7564.741</td>\n",
       "      <td>4494.028</td>\n",
       "      <td>83.000</td>\n",
       "      <td>4294.000</td>\n",
       "      <td>6567.000</td>\n",
       "      <td>10412.000</td>\n",
       "      <td>21650.000</td>\n",
       "    </tr>\n",
       "    <tr>\n",
       "      <th>Price</th>\n",
       "      <td>27103.000</td>\n",
       "      <td>1050664.131</td>\n",
       "      <td>641660.161</td>\n",
       "      <td>85000.000</td>\n",
       "      <td>635000.000</td>\n",
       "      <td>871000.000</td>\n",
       "      <td>1300000.000</td>\n",
       "      <td>11200000.000</td>\n",
       "    </tr>\n",
       "  </tbody>\n",
       "</table>\n",
       "</div>"
      ],
      "text/plain": [
       "                  count        mean        std       min        25%        50%         75%          max\n",
       "Rooms         27103.000       2.992      0.955     1.000      2.000      3.000       4.000       16.000\n",
       "Distance      27102.000      11.280      6.784     0.000      6.400     10.500      14.000       48.100\n",
       "Postcode      27102.000    3113.787    111.129  3000.000   3046.000   3088.000    3153.000     3978.000\n",
       "Bedroom       20678.000       3.046      0.955     0.000      2.000      3.000       4.000       20.000\n",
       "Bathroom      20672.000       1.592      0.701     0.000      1.000      1.000       2.000        9.000\n",
       "Car           20297.000       1.716      0.994     0.000      1.000      2.000       2.000       18.000\n",
       "Landsize      17873.000     560.537   1411.309    50.000    220.000    513.000     664.000    76000.000\n",
       "YearBuilt     11985.000    1966.618     36.042  1850.000   1950.000   1970.000    2000.000     2019.000\n",
       "Propertycount 27103.000    7564.741   4494.028    83.000   4294.000   6567.000   10412.000    21650.000\n",
       "Price         27103.000 1050664.131 641660.161 85000.000 635000.000 871000.000 1300000.000 11200000.000"
      ]
     },
     "execution_count": 69,
     "metadata": {},
     "output_type": "execute_result"
    }
   ],
   "source": [
    "data.describe().T"
   ]
  },
  {
   "cell_type": "code",
   "execution_count": 71,
   "id": "14290445",
   "metadata": {},
   "outputs": [
    {
     "name": "stdout",
     "output_type": "stream",
     "text": [
      "        Suburb  Rooms Type SellerG        Date  Distance  Postcode  Bedroom  Bathroom   Car  Landsize BuildingArea  YearBuilt            Regionname  Propertycount    Price\n",
      "25916  Mitcham     16    h  Buxton  28-10-2017    17.200  3132.000   16.000     8.000 8.000       NaN          NaN        NaN  Eastern Metropolitan           6871  5000000\n"
     ]
    }
   ],
   "source": [
    "# find the entries with Rooms =16\n",
    "print(data[data['Rooms'] == 16])"
   ]
  },
  {
   "cell_type": "code",
   "execution_count": 72,
   "id": "3890195d",
   "metadata": {},
   "outputs": [
    {
     "data": {
      "text/plain": [
       "209"
      ]
     },
     "execution_count": 72,
     "metadata": {},
     "output_type": "execute_result"
    }
   ],
   "source": [
    "# Check the total number of unique values in the Postcode column\n",
    "data['Postcode'].nunique()"
   ]
  },
  {
   "cell_type": "code",
   "execution_count": null,
   "id": "f6cd08c2",
   "metadata": {},
   "outputs": [
    {
     "name": "stdout",
     "output_type": "stream",
     "text": [
      "Suburb\n",
      "Reservoir         724\n",
      "Bentleigh East    493\n",
      "Richmond          437\n",
      "Preston           410\n",
      "Brunswick         383\n",
      "                 ... \n",
      "Wandin North        1\n",
      "Ferny Creek         1\n",
      "Tecoma              1\n",
      "Montrose            1\n",
      "viewbank            1\n",
      "Name: count, Length: 345, dtype: int64\n",
      "--------------------------------------------------\n",
      "Type\n",
      "h    18394\n",
      "u     5882\n",
      "t     2827\n",
      "Name: count, dtype: int64\n",
      "--------------------------------------------------\n",
      "SellerG\n",
      "Nelson           2733\n",
      "Jellis           2516\n",
      "Barry            2385\n",
      "hockingstuart    2096\n",
      "Ray              1574\n",
      "                 ... \n",
      "Allan               1\n",
      "Jim                 1\n",
      "iProperty           1\n",
      "Batty               1\n",
      "Icon                1\n",
      "Name: count, Length: 347, dtype: int64\n",
      "--------------------------------------------------\n",
      "Regionname\n",
      "Southern Metropolitan         8480\n",
      "Northern Metropolitan         7809\n",
      "Western Metropolitan          5792\n",
      "Eastern Metropolitan          3264\n",
      "South-Eastern Metropolitan    1336\n",
      "Northern Victoria              165\n",
      "Eastern Victoria               163\n",
      "Western Victoria                94\n",
      "Name: count, dtype: int64\n",
      "--------------------------------------------------\n",
      "******************************************************************************************************************************************************\n",
      "Suburb\n",
      "Reservoir        0.027\n",
      "Bentleigh East   0.018\n",
      "Richmond         0.016\n",
      "Preston          0.015\n",
      "Brunswick        0.014\n",
      "                  ... \n",
      "Wandin North     0.000\n",
      "Ferny Creek      0.000\n",
      "Tecoma           0.000\n",
      "Montrose         0.000\n",
      "viewbank         0.000\n",
      "Name: proportion, Length: 345, dtype: float64\n",
      "--------------------------------------------------\n",
      "Type\n",
      "h   0.679\n",
      "u   0.217\n",
      "t   0.104\n",
      "Name: proportion, dtype: float64\n",
      "--------------------------------------------------\n",
      "SellerG\n",
      "Nelson          0.101\n",
      "Jellis          0.093\n",
      "Barry           0.088\n",
      "hockingstuart   0.077\n",
      "Ray             0.058\n",
      "                 ... \n",
      "Allan           0.000\n",
      "Jim             0.000\n",
      "iProperty       0.000\n",
      "Batty           0.000\n",
      "Icon            0.000\n",
      "Name: proportion, Length: 347, dtype: float64\n",
      "--------------------------------------------------\n",
      "Regionname\n",
      "Southern Metropolitan        0.313\n",
      "Northern Metropolitan        0.288\n",
      "Western Metropolitan         0.214\n",
      "Eastern Metropolitan         0.120\n",
      "South-Eastern Metropolitan   0.049\n",
      "Northern Victoria            0.006\n",
      "Eastern Victoria             0.006\n",
      "Western Victoria             0.003\n",
      "Name: proportion, dtype: float64\n",
      "--------------------------------------------------\n"
     ]
    }
   ],
   "source": [
    "# Making a list of all categorical variables\n",
    "cat_col = ['Suburb', 'Type', 'SellerG', 'Regionname']\n",
    "\n",
    "# Printing the count of unique categorical levels in each column and its percentage\n",
    "for column in cat_col:\n",
    "    print(data[column].value_counts())\n",
    "    print(\"-\" * 50)\n",
    "\n",
    "print('*****' * 30)\n",
    "\n",
    "# Print its percentage\n",
    "for column in cat_col:\n",
    "    print(data[column].value_counts(normalize=True))\n",
    "    print(\"-\" * 50)\n"
   ]
  },
  {
   "cell_type": "markdown",
   "id": "480972aa",
   "metadata": {},
   "source": [
    "## Visualization techniques => Univariate Analysis => **Histogram**\n",
    "1. **Histogram**\n",
    "2. **Boxplot**\n",
    "3. **Bar Graph**\n",
    "4. **Line Plot**\n",
    "\n",
    "### Histogram \n",
    "**It's a univariate plot which helps us understand the distribution of a continuous numerical variable.**  \n",
    "**It breaks the range of the continuous variables into intervals of equal length and then counts the number of observations in each interval.**  \n",
    "**We will use the histplot() function of seaborn to create histograms.**  \n",
    "\n",
    "hue parameter  \n",
    "FacetGrid"
   ]
  },
  {
   "cell_type": "code",
   "execution_count": 104,
   "id": "45603fa6",
   "metadata": {},
   "outputs": [
    {
     "name": "stdout",
     "output_type": "stream",
     "text": [
      "Index(['symboling', 'normalized_losses', 'make', 'fuel_type', 'aspiration', 'number_of_doors', 'body_style', 'drive_wheels', 'engine_location', 'wheel_base', 'length', 'width', 'height', 'curb_weight', 'engine_type', 'number_of_cylinders', 'engine_size', 'fuel_system', 'bore', 'stroke',\n",
      "       'compression_ratio', 'horsepower', 'peak_rpm', 'city_mpg', 'highway_mpg', 'price'],\n",
      "      dtype='object')\n",
      "******************************************************************************************************************************************************************************************************************\n",
      "(201, 26)\n",
      "******************************************************************************************************************************************************************************************************************\n",
      "<class 'pandas.core.frame.DataFrame'>\n",
      "RangeIndex: 201 entries, 0 to 200\n",
      "Data columns (total 26 columns):\n",
      " #   Column               Non-Null Count  Dtype  \n",
      "---  ------               --------------  -----  \n",
      " 0   symboling            201 non-null    int64  \n",
      " 1   normalized_losses    201 non-null    int64  \n",
      " 2   make                 201 non-null    object \n",
      " 3   fuel_type            201 non-null    object \n",
      " 4   aspiration           201 non-null    object \n",
      " 5   number_of_doors      201 non-null    object \n",
      " 6   body_style           201 non-null    object \n",
      " 7   drive_wheels         201 non-null    object \n",
      " 8   engine_location      201 non-null    object \n",
      " 9   wheel_base           201 non-null    float64\n",
      " 10  length               201 non-null    float64\n",
      " 11  width                201 non-null    float64\n",
      " 12  height               201 non-null    float64\n",
      " 13  curb_weight          201 non-null    int64  \n",
      " 14  engine_type          201 non-null    object \n",
      " 15  number_of_cylinders  201 non-null    object \n",
      " 16  engine_size          201 non-null    int64  \n",
      " 17  fuel_system          201 non-null    object \n",
      " 18  bore                 201 non-null    float64\n",
      " 19  stroke               201 non-null    float64\n",
      " 20  compression_ratio    201 non-null    float64\n",
      " 21  horsepower           201 non-null    int64  \n",
      " 22  peak_rpm             201 non-null    int64  \n",
      " 23  city_mpg             201 non-null    int64  \n",
      " 24  highway_mpg          201 non-null    int64  \n",
      " 25  price                201 non-null    int64  \n",
      "dtypes: float64(7), int64(9), object(10)\n",
      "memory usage: 41.0+ KB\n",
      "None\n",
      "******************************************************************************************************************************************************************************************************************\n",
      "   symboling  normalized_losses         make fuel_type aspiration number_of_doors   body_style drive_wheels engine_location  wheel_base  ...  engine_size  fuel_system  bore  stroke compression_ratio horsepower  peak_rpm city_mpg  highway_mpg  price\n",
      "0          3                168  alfa-romero       gas        std             two  convertible          rwd           front      88.600  ...          130         mpfi 3.470   2.680             9.000        111      5000       21           27  13495\n",
      "1          3                168  alfa-romero       gas        std             two  convertible          rwd           front      88.600  ...          130         mpfi 3.470   2.680             9.000        111      5000       21           27  16500\n",
      "2          1                168  alfa-romero       gas        std             two    hatchback          rwd           front      94.500  ...          152         mpfi 2.680   3.470             9.000        154      5000       19           26  16500\n",
      "3          2                164         audi       gas        std            four        sedan          fwd           front      99.800  ...          109         mpfi 3.190   3.400            10.000        102      5500       24           30  13950\n",
      "4          2                164         audi       gas        std            four        sedan          4wd           front      99.400  ...          136         mpfi 3.190   3.400             8.000        115      5500       18           22  17450\n",
      "\n",
      "[5 rows x 26 columns]\n",
      "******************************************************************************************************************************************************************************************************************\n",
      "5118 45400\n",
      "******************************************************************************************************************************************************************************************************************\n",
      "price\n",
      "8921     2\n",
      "18150    2\n",
      "8845     2\n",
      "8495     2\n",
      "7609     2\n",
      "        ..\n",
      "45400    1\n",
      "16503    1\n",
      "5389     1\n",
      "6189     1\n",
      "22625    1\n",
      "Name: count, Length: 186, dtype: int64\n",
      "******************************************************************************************************************************************************************************************************************\n",
      "price\n",
      "5118     1\n",
      "13415    1\n",
      "13495    1\n",
      "13645    1\n",
      "13845    1\n",
      "        ..\n",
      "7898     2\n",
      "13499    2\n",
      "8921     2\n",
      "6229     2\n",
      "7957     2\n",
      "Name: count, Length: 186, dtype: int64\n"
     ]
    }
   ],
   "source": [
    "import pandas as pd\n",
    "\n",
    "df = pd.read_csv('data/Automobile.csv')\n",
    "print(df.columns)\n",
    "print(\"*******\" * 30)\n",
    "print(df.shape)\n",
    "print(\"*******\" * 30)\n",
    "print(df.info())\n",
    "print(\"*******\" * 30)\n",
    "print(df.head(5))\n",
    "print(\"*******\" * 30)\n",
    "print(df['price'].min(), df['price'].max())\n",
    "print(\"*******\" * 30)\n",
    "print(df['price'].value_counts())\n",
    "print(\"*******\" * 30)\n",
    "print(df.groupby(['price'])['price'].value_counts().sort_values(ascending=True))"
   ]
  },
  {
   "cell_type": "code",
   "execution_count": 97,
   "id": "92d47f4f",
   "metadata": {},
   "outputs": [
    {
     "data": {
      "text/plain": [
       "<Axes: title={'center': 'Histogram: price'}, xlabel='Price of cars', ylabel='Frequency'>"
      ]
     },
     "execution_count": 97,
     "metadata": {},
     "output_type": "execute_result"
    },
    {
     "data": {
      "image/png": "[encoded data removed]",
      "text/plain": [
       "<Figure size 640x480 with 1 Axes>"
      ]
     },
     "metadata": {},
     "output_type": "display_data"
    }
   ],
   "source": [
    "plt.title('Histogram: price')\n",
    "#plt.xlim(4500, 46000)\n",
    "#plt.ylim(0, 70)\n",
    "plt.xlabel('Price of cars')\n",
    "plt.ylabel('Frequency')\n",
    "sns.histplot(data=df, x='price', color='navy')"
   ]
  },
  {
   "cell_type": "code",
   "execution_count": 107,
   "id": "c4ccb121",
   "metadata": {},
   "outputs": [
    {
     "data": {
      "text/plain": [
       "<Axes: title={'center': 'Histogram: price'}, xlabel='Price of cars', ylabel='Frequency'>"
      ]
     },
     "execution_count": 107,
     "metadata": {},
     "output_type": "execute_result"
    },
    {
     "data": {
      "image/png": "[encoded data removed]",
      "text/plain": [
       "<Figure size 640x480 with 1 Axes>"
      ]
     },
     "metadata": {},
     "output_type": "display_data"
    }
   ],
   "source": [
    "# specify the number of intervals (or groups or bins) to create by setting the bins parameter\n",
    "plt.title('Histogram: price')\n",
    "#plt.xlim(4500, 46000)\n",
    "#plt.ylim(0, 70)\n",
    "plt.xlabel('Price of cars')\n",
    "plt.ylabel('Frequency')\n",
    "sns.histplot(data=df, x='price', bins=40, color='navy')"
   ]
  },
  {
   "cell_type": "code",
   "execution_count": 110,
   "id": "ac390686",
   "metadata": {},
   "outputs": [
    {
     "data": {
      "text/plain": [
       "<Axes: title={'center': 'Histogram: price'}, xlabel='Price of cars', ylabel='Frequency'>"
      ]
     },
     "execution_count": 110,
     "metadata": {},
     "output_type": "execute_result"
    },
    {
     "data": {
      "image/png": "[encoded data removed]",
      "text/plain": [
       "<Figure size 640x480 with 1 Axes>"
      ]
     },
     "metadata": {},
     "output_type": "display_data"
    }
   ],
   "source": [
    "# binwidth\n",
    "plt.title('Histogram: price')\n",
    "#plt.xlim(4500, 46000)\n",
    "#plt.ylim(0, 70)\n",
    "plt.xlabel('Price of cars')\n",
    "plt.ylabel('Frequency')\n",
    "sns.histplot(data=df, x='price', binwidth = 2000, color='navy')"
   ]
  },
  {
   "cell_type": "markdown",
   "id": "e1d0cff9",
   "metadata": {},
   "source": [
    "### How to find the optimal number of bins: Rule of thumb\n",
    "* calculate the bin-width first, using the formula\n",
    "$$ binwidth =\\frac{(2 * IQR)}{\\sqrt[3]{n}} $$\n",
    "where n = number of rows in the datase\n",
    "IQR = Inter quartile range. Difference between 75 and 25 percentile\n",
    "\n",
    "* then, we obtain bins using the calculated bin-width. $$ bins =\\frac{Range}{binwidth} $$\n",
    "\n",
    "* **In addition to the bars, we can also add a density estimate by setting the *kde* parameter to *True*.**\n",
    "\n",
    "- **Kernel Density Estimation**, or **KDE**, visualizes the distribution of data over a continuous interval.\n",
    "- The conventional scale for KDE is: **Total frequency of each bin × Probability**"
   ]
  },
  {
   "cell_type": "code",
   "execution_count": 111,
   "id": "e331a2fc",
   "metadata": {},
   "outputs": [
    {
     "data": {
      "text/plain": [
       "<Axes: title={'center': 'Histogram: price'}, xlabel='Price of cars', ylabel='Frequency'>"
      ]
     },
     "execution_count": 111,
     "metadata": {},
     "output_type": "execute_result"
    },
    {
     "data": {
      "image/png": "[encoded data removed]",
      "text/plain": [
       "<Figure size 640x480 with 1 Axes>"
      ]
     },
     "metadata": {},
     "output_type": "display_data"
    }
   ],
   "source": [
    "plt.title('Histogram: price')\n",
    "#plt.xlim(4500, 46000)\n",
    "#plt.ylim(0, 70)\n",
    "plt.xlabel('Price of cars')\n",
    "plt.ylabel('Frequency')\n",
    "sns.histplot(data=df, x='price',kde = True, color='navy')"
   ]
  },
  {
   "cell_type": "code",
   "execution_count": 112,
   "id": "56d09339",
   "metadata": {},
   "outputs": [
    {
     "data": {
      "text/plain": [
       "<Axes: title={'center': 'Histogram: curb_weight'}, xlabel='curb_weight', ylabel='Frequency'>"
      ]
     },
     "execution_count": 112,
     "metadata": {},
     "output_type": "execute_result"
    },
    {
     "data": {
      "image/png": "[encoded data removed]",
      "text/plain": [
       "<Figure size 640x480 with 1 Axes>"
      ]
     },
     "metadata": {},
     "output_type": "display_data"
    }
   ],
   "source": [
    "plt.title('Histogram: curb_weight')\n",
    "#plt.xlim(4500, 46000)\n",
    "#plt.ylim(0, 70)\n",
    "plt.xlabel('curb_weight')\n",
    "plt.ylabel('Frequency')\n",
    "sns.histplot(data=df, x = 'curb_weight', kde = True, color = 'navy')"
   ]
  },
  {
   "cell_type": "code",
   "execution_count": 113,
   "id": "102d8f44",
   "metadata": {},
   "outputs": [
    {
     "data": {
      "text/plain": [
       "<Axes: title={'center': 'Histogram: horsepower'}, xlabel='Horsepower', ylabel='Frequency'>"
      ]
     },
     "execution_count": 113,
     "metadata": {},
     "output_type": "execute_result"
    },
    {
     "data": {
      "image/png": "[encoded data removed]",
      "text/plain": [
       "<Figure size 640x480 with 1 Axes>"
      ]
     },
     "metadata": {},
     "output_type": "display_data"
    }
   ],
   "source": [
    "plt.title('Histogram: horsepower')\n",
    "#plt.xlim(4500, 46000)\n",
    "#plt.ylim(0, 70)\n",
    "plt.xlabel('Horsepower')\n",
    "plt.ylabel('Frequency')\n",
    "sns.histplot(data=df, x = 'horsepower', kde = True, color = 'navy')"
   ]
  },
  {
   "cell_type": "markdown",
   "id": "7b9a8947",
   "metadata": {},
   "source": [
    "### While histograms are traditionally associated with numerical data, adapting them to categorical variables offers a visual means of understanding the frequency of different categories within your dataset.\n",
    "Subplots provide a unified figure layout, ensuring consistent axes scaling and alignment across multiple plots."
   ]
  },
  {
   "cell_type": "code",
   "execution_count": 114,
   "id": "589d4ac5",
   "metadata": {},
   "outputs": [
    {
     "data": {
      "text/plain": [
       "<Axes: title={'center': 'Histogram: Price by body_style'}, xlabel='price', ylabel='Frequency'>"
      ]
     },
     "execution_count": 114,
     "metadata": {},
     "output_type": "execute_result"
    },
    {
     "data": {
      "image/png": "[encoded data removed]",
      "text/plain": [
       "<Figure size 640x480 with 1 Axes>"
      ]
     },
     "metadata": {},
     "output_type": "display_data"
    }
   ],
   "source": [
    "# Compare the distribution of several groups\n",
    "plt.title('Histogram: Price by body_style')\n",
    "#plt.xlim(4500, 46000)\n",
    "#plt.ylim(0, 70)\n",
    "plt.xlabel('price')\n",
    "plt.ylabel('Frequency')\n",
    "sns.histplot(data=df, x = 'price', hue = 'body_style' ,kde = True, color = 'navy')"
   ]
  },
  {
   "cell_type": "code",
   "execution_count": 117,
   "id": "177eee1b",
   "metadata": {},
   "outputs": [
    {
     "data": {
      "text/plain": [
       "<seaborn.axisgrid.FacetGrid at 0x15d57a120>"
      ]
     },
     "execution_count": 117,
     "metadata": {},
     "output_type": "execute_result"
    },
    {
     "data": {
      "image/png": "[encoded data removed]",
      "text/plain": [
       "<Figure size 1500x300 with 5 Axes>"
      ]
     },
     "metadata": {},
     "output_type": "display_data"
    }
   ],
   "source": [
    "g = sns.FacetGrid(df, col='body_style')\n",
    "g.map(sns.histplot, 'price')"
   ]
  },
  {
   "cell_type": "markdown",
   "id": "fd8514a3",
   "metadata": {},
   "source": [
    "## Visualization techniques => Univariate Analysis => **Boxplot**\n",
    "1. **Histogram**\n",
    "2. **Boxplot**\n",
    "3. **Bar Graph**\n",
    "4. **Line Plot**\n",
    "\n",
    "### Box plot\n"
   ]
  }
 ],
 "metadata": {
  "kernelspec": {
   "display_name": ".venv",
   "language": "python",
   "name": "python3"
  },
  "language_info": {
   "codemirror_mode": {
    "name": "ipython",
    "version": 3
   },
   "file_extension": ".py",
   "mimetype": "text/x-python",
   "name": "python",
   "nbconvert_exporter": "python",
   "pygments_lexer": "ipython3",
   "version": "3.12.7"
  }
 },
 "nbformat": 4,
 "nbformat_minor": 5
}
