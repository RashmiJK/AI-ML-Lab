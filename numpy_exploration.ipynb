{
 "cells": [
  {
   "cell_type": "markdown",
   "id": "270a0e3d",
   "metadata": {},
   "source": [
    "# numpy\n",
    "Numpy is designed for mathematical computation.  \n",
    "- Arithmetic operations  \n",
    "- Statistics operations  \n",
    "- Bitwise operations  \n",
    "- Copying and viewing arrays  \n",
    "- Searching, sorting, counting  \n",
    "- Mathematical operations  \n",
    "- Linear algebra  \n",
    "- Broadcasting  \n",
    "- Matrix operations  \n"
   ]
  },
  {
   "cell_type": "markdown",
   "id": "9ded1b26",
   "metadata": {},
   "source": [
    "## Python List vs Numpy Array\n",
    "\n",
    "Both Python lists and Numpy arrays are ordered, mutable, and support indexing, slicing, and iterating. However, they have significant differences:\n",
    "\n",
    "| Feature                     | Python List                          | Numpy Array                          |\n",
    "|-----------------------------|---------------------------------------|---------------------------------------|\n",
    "| **Data Type**               | Can hold elements of different types | Holds elements of the same type      |\n",
    "| **Import Requirement**      | Built-in data structure              | Requires importing Numpy             |\n",
    "| **Memory Consumption**      | Consumes more memory                 | Consumes less memory                 |\n",
    "| **Resizing**                | Expands dynamically                  | Fixed size once defined              |\n",
    "| **Performance**             | Slower                               | Faster                               |\n",
    "| **Use Case**                | General-purpose data storage         | Mathematical and large data operations |"
   ]
  },
  {
   "cell_type": "markdown",
   "id": "aff8dd43",
   "metadata": {},
   "source": [
    "## Creating arrays  \n",
    "np.array  \n",
    "From lists, tuples  \n",
    "np.arange  \n",
    "np.linspace  \n",
    "np.random.rand  \n",
    "np.random.randint  \n",
    "np.zeros => tuple as argument for multidimension  \n",
    "np.ones => tuple as argument for multidimension  \n",
    "np.fill  \n",
    "np.full = > create one or two dimensional  \n",
    "np.empty  "
   ]
  },
  {
   "cell_type": "code",
   "execution_count": null,
   "id": "81bee91d",
   "metadata": {},
   "outputs": [
    {
     "name": "stdout",
     "output_type": "stream",
     "text": [
      "[10 20 30 40 50]\n",
      "50\n",
      "Type of nums = int64, Memory = 40\n"
     ]
    }
   ],
   "source": [
    "# int8, int16, int32, int64\n",
    "# uint8, uint16, uint32, uint64\n",
    "# float16, float32, float64\n",
    "# complex64, complex128\n",
    "# bool, object, string_, unicode_\n",
    "\n",
    "import numpy as np\n",
    "nums = np.array([10, 20, 30, 40 ,50])\n",
    "print(nums, nums[4], sep = '\\n')\n",
    "print(f\"Type of nums = {nums.dtype}, Memory = {nums.nbytes}\")\n",
    "\n"
   ]
  },
  {
   "cell_type": "markdown",
   "id": "82133525",
   "metadata": {},
   "source": [
    "### Multidmensional array\n",
    "<img src=\"images/m_arrays.png\" width=\"400\" height=100>"
   ]
  },
  {
   "cell_type": "code",
   "execution_count": 21,
   "id": "a429eef4",
   "metadata": {},
   "outputs": [
    {
     "name": "stdout",
     "output_type": "stream",
     "text": [
      "5\n",
      "10\n",
      "nums.ndim =  2\n",
      "nums.shape =  (2, 5)\n",
      "nums.size =  10\n",
      "nums.itemsize =  8\n",
      "nums.nbytes =  80\n"
     ]
    }
   ],
   "source": [
    "# Display properties and specific elements of a 2D numpy array\n",
    "import numpy as np\n",
    "nums = np.array([[1,2,3,4,5],[6,7,8,9,10]])\n",
    "print(nums[0, 4], nums[1, 4], sep = '\\n')\n",
    "print(\"nums.ndim = \", nums.ndim)\n",
    "print(\"nums.shape = \", nums.shape)\n",
    "print(\"nums.size = \", nums.size)\n",
    "print(\"nums.itemsize = \", nums.itemsize)\n",
    "print(\"nums.nbytes = \", nums.nbytes)"
   ]
  },
  {
   "cell_type": "code",
   "execution_count": null,
   "id": "b4891930",
   "metadata": {},
   "outputs": [
    {
     "name": "stdout",
     "output_type": "stream",
     "text": [
      "[[[ 1  2  3]\n",
      "  [ 4  5  6]\n",
      "  [15 16 17]]\n",
      "\n",
      " [[ 7  8  9]\n",
      "  [10 11 12]\n",
      "  [18 19 20]]]\n",
      "nums.ndim =  3\n",
      "nums.shape =  (2, 3, 3)\n",
      "nums.size =  18\n",
      "nums.itemsize =  8\n",
      "nums.nbytes =  144\n",
      "17\n"
     ]
    }
   ],
   "source": [
    "# Display properties and specific elements of a 3D numpy array\n",
    "import numpy as np\n",
    "nums = np.array([[[1, 2, 3],[4, 5, 6],[15,16,17]],[[7, 8, 9],[10, 11, 12],[18,19,20]]])\n",
    "print(nums)\n",
    "print(\"nums.ndim = \", nums.ndim)\n",
    "print(\"nums.shape = \", nums.shape)\n",
    "print(\"nums.size = \", nums.size)\n",
    "print(\"nums.itemsize = \", nums.itemsize)\n",
    "print(\"nums.nbytes = \", nums.nbytes)\n",
    "print(nums[0, 2, 2])"
   ]
  },
  {
   "cell_type": "code",
   "execution_count": 36,
   "id": "005a9946",
   "metadata": {},
   "outputs": [
    {
     "name": "stdout",
     "output_type": "stream",
     "text": [
      "[[[[1 2]\n",
      "   [5 6]]]\n",
      "\n",
      "\n",
      " [[[3 4]\n",
      "   [7 8]]]]\n",
      "nums.ndim =  4\n",
      "nums.shape =  (2, 1, 2, 2)\n",
      "nums.size =  8\n",
      "nums.itemsize =  8\n",
      "nums.nbytes =  64\n",
      "6\n"
     ]
    },
    {
     "data": {
      "text/plain": [
       "array([[[[1, 2],\n",
       "         [5, 6]]],\n",
       "\n",
       "\n",
       "       [[[3, 4],\n",
       "         [7, 8]]]])"
      ]
     },
     "execution_count": 36,
     "metadata": {},
     "output_type": "execute_result"
    }
   ],
   "source": [
    "# Display properties and specific elements of a 4D numpy array\n",
    "import numpy as np\n",
    "nums = np.array([[[[1,2],[5,6]]],[[[3,4],[7,8]]]])\n",
    "print(nums)\n",
    "print(\"nums.ndim = \", nums.ndim)\n",
    "print(\"nums.shape = \", nums.shape)\n",
    "print(\"nums.size = \", nums.size)\n",
    "print(\"nums.itemsize = \", nums.itemsize)\n",
    "print(\"nums.nbytes = \", nums.nbytes)\n",
    "print(nums[0,0,1,1])\n",
    "nums"
   ]
  },
  {
   "cell_type": "code",
   "execution_count": null,
   "id": "bb9e3773",
   "metadata": {},
   "outputs": [
    {
     "name": "stdout",
     "output_type": "stream",
     "text": [
      "[ 1  2  3  4  5  6  7  8  9 10]\n",
      "[ 1  2  3  4  5  6  7  8  9 10]\n"
     ]
    }
   ],
   "source": [
    "# Convert a list and a tuple into numpy arrays. The data type of the resulting arrays is determined by the most general type in the input.\n",
    "import numpy as np\n",
    "my_list=[1,2,3,4,5,6,7,8,9,10]\n",
    "nums = np.array(my_list)\n",
    "print(nums)\n",
    "my_tuple=(1,2,3,4,5,6,7,8,9,10)\n",
    "nums1 = np.array(my_tuple)\n",
    "print(nums1)"
   ]
  },
  {
   "cell_type": "code",
   "execution_count": 44,
   "id": "f79feedd",
   "metadata": {},
   "outputs": [
    {
     "name": "stdout",
     "output_type": "stream",
     "text": [
      "[0 1 2 3 4 5 6 7 8 9]\n",
      "[100 101 102 103 104 105 106 107 108 109 110 111 112 113 114 115 116 117\n",
      " 118 119 120 121 122 123 124 125 126 127 128 129]\n",
      "[100 105 110 115 120 125 130 135 140 145 150]\n",
      "[0.   0.25 0.5  0.75 1.  ]\n"
     ]
    }
   ],
   "source": [
    "# np.arange generates values within a given range with a specified step, while np.linspace generates a specified number of evenly spaced **points** within a range.\n",
    "import numpy as np\n",
    "int_array = np.arange(10)\n",
    "print(int_array)\n",
    "int_array = np.arange(100,130)\n",
    "print(int_array)\n",
    "int_array = np.arange(100,151,5)\n",
    "print(int_array)\n",
    "floats_array = np.linspace(0, 1, 5)\n",
    "print(floats_array)"
   ]
  },
  {
   "cell_type": "code",
   "execution_count": null,
   "id": "80fb0b45",
   "metadata": {},
   "outputs": [
    {
     "name": "stdout",
     "output_type": "stream",
     "text": [
      "[0.30865829 0.52352477 0.22291242 0.02940609 0.98984509 0.16789431\n",
      " 0.59445177 0.55459611 0.76467105 0.4300737 ]\n",
      "[[0.43925017 0.33489918 0.67610222]\n",
      " [0.59995064 0.107842   0.4409852 ]\n",
      " [0.84507341 0.79815783 0.01811547]]\n"
     ]
    }
   ],
   "source": [
    "# np.random.rand generates random numbers in the range [0.0, 1.0). The shape of the output array is specified as an argument.\n",
    "import numpy as np\n",
    "my_rand_array = np.random.rand(10)\n",
    "print(my_rand_array)\n",
    "my_rand_array = np.random.rand(3,3)\n",
    "print(my_rand_array)"
   ]
  },
  {
   "cell_type": "code",
   "execution_count": 49,
   "id": "579802b0",
   "metadata": {},
   "outputs": [
    {
     "data": {
      "text/plain": [
       "array([0, 3])"
      ]
     },
     "execution_count": 49,
     "metadata": {},
     "output_type": "execute_result"
    }
   ],
   "source": [
    "import numpy as np\n",
    "my_random_int_array = np.random.randint(0,10,2)\n",
    "my_random_int_array"
   ]
  },
  {
   "cell_type": "code",
   "execution_count": 53,
   "id": "e96a840e",
   "metadata": {},
   "outputs": [
    {
     "data": {
      "text/plain": [
       "array([[5, 5, 5],\n",
       "       [5, 5, 5]])"
      ]
     },
     "execution_count": 53,
     "metadata": {},
     "output_type": "execute_result"
    }
   ],
   "source": [
    "my_array=np.empty(10, dtype=int)\n",
    "my_array.fill(5)\n",
    "my_array\n",
    "my_array=np.full(10, 5, dtype=int)\n",
    "my_array\n",
    "my_array=np.full((2,3), 5, dtype=int)\n",
    "my_array"
   ]
  },
  {
   "cell_type": "markdown",
   "id": "607e633d",
   "metadata": {},
   "source": [
    "<img src=\"images/shape_size.png\" width=\"400\" height=200>"
   ]
  },
  {
   "cell_type": "code",
   "execution_count": 60,
   "id": "a870f1bf",
   "metadata": {},
   "outputs": [
    {
     "data": {
      "text/plain": [
       "array([[100.        , 200.        ,  30.        ],\n",
       "       [ 90.        , 180.        ,  31.11111111],\n",
       "       [ 80.        , 160.        ,  32.22222222],\n",
       "       [ 70.        , 140.        ,  33.33333333],\n",
       "       [ 60.        , 120.        ,  34.44444444],\n",
       "       [ 50.        , 100.        ,  35.55555556],\n",
       "       [ 40.        ,  80.        ,  36.66666667],\n",
       "       [ 30.        ,  60.        ,  37.77777778],\n",
       "       [ 20.        ,  40.        ,  38.88888889],\n",
       "       [ 10.        ,  20.        ,  40.        ]])"
      ]
     },
     "execution_count": 60,
     "metadata": {},
     "output_type": "execute_result"
    }
   ],
   "source": [
    "my_sec_arr = np.linspace((100,200,30),(10,20,40),10)\n",
    "my_sec_arr"
   ]
  },
  {
   "cell_type": "markdown",
   "id": "88badc75",
   "metadata": {},
   "source": [
    "## Manipulate arrays\n",
    "insert, append, delete, sort  \n",
    "copy, view, base  \n",
    "np.reshape, flattening (reshape(arr, -1))  \n",
    "np.flatten => creates copy  \n",
    "ravel => creates a view => memory efficient  \n",
    "Indexing and slicing => -1 for reverse indexing  \n",
    "Concatenate, stack, hstack, vstack  \n",
    "split, array_split, hsplit, vsplit"
   ]
  },
  {
   "cell_type": "code",
   "execution_count": 71,
   "id": "be620de8",
   "metadata": {},
   "outputs": [
    {
     "name": "stdout",
     "output_type": "stream",
     "text": [
      "[ 1  2 10  3  4  5]\n",
      "[  1   2  10   3   4   5 999 998]\n",
      "[  1   2  10   3   4 999 998]\n",
      "[  1   2   3   4  10 998 999]\n",
      "[[  1   2   3]\n",
      " [  4   5   6]\n",
      " [  8  77 999]]\n"
     ]
    }
   ],
   "source": [
    "import numpy as np\n",
    "my_a = np.array([1,2,3,4,5], dtype=np.int8)\n",
    "my_a = np.insert(my_a, 2, 10)\n",
    "print(my_a)\n",
    "my_a = np.append(my_a, [999,998])\n",
    "print(my_a)\n",
    "my_a = np.delete(my_a, 5)\n",
    "print(my_a)\n",
    "my_a = np.sort(my_a)\n",
    "print(my_a)\n",
    "my_2_a = np.array([[3,2,1],[4,5,6],[77,8,999]])\n",
    "my_2_a = np.sort(my_2_a)\n",
    "print(my_2_a)\n"
   ]
  },
  {
   "cell_type": "code",
   "execution_count": null,
   "id": "ab3bc724",
   "metadata": {},
   "outputs": [
    {
     "name": "stdout",
     "output_type": "stream",
     "text": [
      "[100   2   3   4   5]\n",
      "******************\n",
      "my_array = \n",
      " [[[ 1  2  3]\n",
      "  [ 4  5  6]]\n",
      "\n",
      " [[ 7  8  9]\n",
      "  [10 11 12]]]\n",
      "my_array3 = \n",
      " [[[ 1  2  3]\n",
      "  [ 4  5  6]]\n",
      "\n",
      " [[ 7  8  9]\n",
      "  [10 11 12]]]\n",
      "my_array = \n",
      " [[[ 1  2  3]\n",
      "  [ 4  5  6]]\n",
      "\n",
      " [[ 7  8  9]\n",
      "  [10 11 12]]]\n",
      "my_array3 = \n",
      " [[[  1   2   3]\n",
      "  [200   5   6]]\n",
      "\n",
      " [[  7   8   9]\n",
      "  [ 10  11  12]]]\n",
      "id(my_array) = 4454941488, id(my_array3) = 4454941104\n"
     ]
    }
   ],
   "source": [
    "# Assignments do not copy the array, but rather create a reference to the original array. This means that if you modify the new array, the original array will also be modified.\n",
    "import numpy as np\n",
    "my_array = np.array([1,2,3,4,5])\n",
    "my_array2 = my_array\n",
    "my_array2[0] = 100\n",
    "print(my_array)\n",
    "# To create a copy of the array, use the copy() method.\n",
    "print(\"***\"*6)\n",
    "my_array = np.array([[[1,2,3],[4,5,6]],[[7,8,9],[10,11,12]]])\n",
    "my_array3=my_array.copy()\n",
    "print(\"my_array = \\n\",my_array)\n",
    "print(\"my_array3 = \\n\", my_array3)\n",
    "my_array3[0, 1, 0] = 200\n",
    "print(\"my_array = \\n\",my_array)\n",
    "print(\"my_array3 = \\n\", my_array3)\n",
    "print(f\"id(my_array) = {id(my_array)}, id(my_array3) = {id(my_array3)}\")\n",
    "# deepcopy is same as copy in this case\n"
   ]
  },
  {
   "cell_type": "code",
   "execution_count": 89,
   "id": "ff196334",
   "metadata": {},
   "outputs": [
    {
     "name": "stdout",
     "output_type": "stream",
     "text": [
      "f_arr = \n",
      " [ 1  2  3  4  5  6  7  8  9 10 11 12]\n",
      "f_arr = \n",
      " [[ 1  2  3  4]\n",
      " [ 5  6  7  8]\n",
      " [ 9 10 11 12]]\n",
      "f_arr = \n",
      " [[[ 1  2  3]\n",
      "  [ 4  5  6]]\n",
      "\n",
      " [[ 7  8  9]\n",
      "  [10 11 12]]]\n",
      "f_arr = \n",
      " [[ 1  2  3]\n",
      " [ 4  5  6]\n",
      " [ 7  8  9]\n",
      " [10 11 12]]\n"
     ]
    }
   ],
   "source": [
    "import numpy as np\n",
    "f_arr = np.arange(1,13)\n",
    "print(\"f_arr = \\n\" ,f_arr)\n",
    "f_arr = f_arr.reshape(3,4)\n",
    "print(\"f_arr = \\n\" ,f_arr)\n",
    "f_arr = f_arr.reshape(2,2,3)\n",
    "print(\"f_arr = \\n\" ,f_arr)\n",
    "f_arr = np.reshape(f_arr, (4,3))\n",
    "print(\"f_arr = \\n\" ,f_arr)"
   ]
  },
  {
   "cell_type": "code",
   "execution_count": 93,
   "id": "22270818",
   "metadata": {},
   "outputs": [
    {
     "name": "stdout",
     "output_type": "stream",
     "text": [
      "[[ 0  1  2  3]\n",
      " [ 4  5  6  7]\n",
      " [ 8  9 10 11]]\n",
      "7\n",
      "[ 8  9 10 11]\n"
     ]
    }
   ],
   "source": [
    "import numpy as np\n",
    "my_arr = np.reshape(np.arange(12), (3,4))\n",
    "print(my_arr)\n",
    "print(my_arr[1,3])\n",
    "print(my_arr[2])\n",
    "\n"
   ]
  },
  {
   "cell_type": "code",
   "execution_count": 99,
   "id": "71fadce4",
   "metadata": {},
   "outputs": [
    {
     "name": "stdout",
     "output_type": "stream",
     "text": [
      "[[ 1  2  3  4]\n",
      " [ 5  6  7  8]\n",
      " [ 9 10 11 12]]\n",
      "[[ 6  7  8]\n",
      " [10 11 12]]\n",
      "[5 6 7 8]\n",
      "[ 3  7 11]\n"
     ]
    }
   ],
   "source": [
    "import numpy as np\n",
    "my_array = np.reshape(np.arange(1,13), (3,4))\n",
    "print(my_array)\n",
    "print(my_array[1:,1:])\n",
    "print(my_array[1,:])\n",
    "print(my_array[:,2])"
   ]
  },
  {
   "cell_type": "code",
   "execution_count": 110,
   "id": "385fbc1d",
   "metadata": {},
   "outputs": [
    {
     "name": "stdout",
     "output_type": "stream",
     "text": [
      "[[ 1  2  3  4  5]\n",
      " [ 6  7  8  9 10]]\n",
      "[[21 22 23 24 25]\n",
      " [26 27 28 29 30]]\n",
      "[[ 1  2  3  4  5]\n",
      " [ 6  7  8  9 10]\n",
      " [21 22 23 24 25]\n",
      " [26 27 28 29 30]]\n",
      "[[ 1  2  3  4  5 21 22 23 24 25]\n",
      " [ 6  7  8  9 10 26 27 28 29 30]]\n"
     ]
    }
   ],
   "source": [
    "import numpy as np\n",
    "f_arr = np.reshape(np.arange(1,11), (2,5))\n",
    "s_arr = np.reshape(np.arange(21,31), (2,5))\n",
    "print(f_arr)\n",
    "print(s_arr)\n",
    "print(np.concatenate((f_arr, s_arr), axis=0))\n",
    "print(np.concatenate((f_arr, s_arr), axis=1))"
   ]
  },
  {
   "cell_type": "code",
   "execution_count": 114,
   "id": "1221af64",
   "metadata": {},
   "outputs": [
    {
     "name": "stdout",
     "output_type": "stream",
     "text": [
      "[[ 1  2  3  4  5]\n",
      " [ 6  7  8  9 10]]\n",
      "[[ 1  2  3  4  5]\n",
      " [ 6  7  8  9 10]]\n",
      "[ 1  2  3  4  5  6  7  8  9 10]\n"
     ]
    }
   ],
   "source": [
    "import numpy as np\n",
    "my_array1 = np.array([1,2,3,4,5])\n",
    "my_array2 = np.array([6,7,8,9,10])\n",
    "my_array3 = np.stack((my_array1, my_array2))\n",
    "print(my_array3)\n",
    "my_array4 = np.vstack((my_array1, my_array2))\n",
    "print(my_array4)\n",
    "my_array5 = np.hstack((my_array1, my_array2))\n",
    "print(my_array5)"
   ]
  },
  {
   "cell_type": "markdown",
   "id": "a16c1418",
   "metadata": {},
   "source": [
    "### Operations\n"
   ]
  }
 ],
 "metadata": {
  "kernelspec": {
   "display_name": ".venv",
   "language": "python",
   "name": "python3"
  },
  "language_info": {
   "codemirror_mode": {
    "name": "ipython",
    "version": 3
   },
   "file_extension": ".py",
   "mimetype": "text/x-python",
   "name": "python",
   "nbconvert_exporter": "python",
   "pygments_lexer": "ipython3",
   "version": "3.12.7"
  }
 },
 "nbformat": 4,
 "nbformat_minor": 5
}
