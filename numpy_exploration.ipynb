{
 "cells": [
  {
   "cell_type": "markdown",
   "id": "270a0e3d",
   "metadata": {},
   "source": [
    "# numpy\n",
    "Numpy is designed for mathematical computation.  \n",
    "- Arithmetic operations  \n",
    "- Statistics operations  \n",
    "- Bitwise operations  \n",
    "- Copying and viewing arrays  \n",
    "- Searching, sorting, counting  \n",
    "- Mathematical operations  \n",
    "- Linear algebra  \n",
    "- Broadcasting  \n",
    "- Matrix operations  \n"
   ]
  },
  {
   "cell_type": "markdown",
   "id": "9ded1b26",
   "metadata": {},
   "source": [
    "## Python List vs Numpy Array\n",
    "\n",
    "Both Python lists and Numpy arrays are ordered, mutable, and support indexing, slicing, and iterating. However, they have significant differences:\n",
    "\n",
    "| Feature                     | Python List                          | Numpy Array                          |\n",
    "|-----------------------------|---------------------------------------|---------------------------------------|\n",
    "| **Data Type**               | Can hold elements of different types | Holds elements of the same type      |\n",
    "| **Import Requirement**      | Built-in data structure              | Requires importing Numpy             |\n",
    "| **Memory Consumption**      | Consumes more memory                 | Consumes less memory                 |\n",
    "| **Resizing**                | Expands dynamically                  | Fixed size once defined              |\n",
    "| **Performance**             | Slower                               | Faster                               |\n",
    "| **Use Case**                | General-purpose data storage         | Mathematical and large data operations |"
   ]
  },
  {
   "cell_type": "markdown",
   "id": "aff8dd43",
   "metadata": {},
   "source": [
    "## Creating arrays  \n",
    "1. np.array() => create arrays from lists, tuples  \n",
    "2. np.arange() => \" A Range\" to return evenly spaced elements => start, stop, step  \n",
    "3. np.linspace() => Returns numbers which are evenly distributed with respect to interval. => start, stop, num => start and stop both are included => step = ``` (stop - start) / (total_elements -1)```  \n",
    "4. np.zeros() => tuple as argument for multidimension => parameters => shape : no. of rows and columns, dtype : data type of elements (default float)   \n",
    "5. np.ones() => tuple as argument for multidimension => parameters => same structure as zeros()\n",
    "6. np.empty()  \n",
    "7. np.eye() => identity matrix => returns a matrix with ones on the diagonal and zeros elsewhere => parameters => n : no. of rows and columns, dtype : data type of matrix elements  \n",
    "8. np.random.rand()    \n",
    "9. np.random.randint()    \n",
    "10. np.fill()    \n",
    "11. np.full()   = > create one or two dimensional  "
   ]
  },
  {
   "cell_type": "code",
   "execution_count": 9,
   "id": "81bee91d",
   "metadata": {},
   "outputs": [
    {
     "name": "stdout",
     "output_type": "stream",
     "text": [
      "[10 20 30 40 50]\n",
      "50\n",
      "Type of nums = <class 'numpy.ndarray'>, type of nums1 = <class 'numpy.ndarray'>\n",
      "Type of elements in nums = int64, Memory = 40\n"
     ]
    }
   ],
   "source": [
    "# int8, int16, int32, int64\n",
    "# uint8, uint16, uint32, uint64\n",
    "# float16, float32, float64\n",
    "# complex64, complex128\n",
    "# bool, object, string_, unicode_\n",
    "\n",
    "import numpy as np\n",
    "nums = np.array([10, 20, 30, 40 ,50])\n",
    "nums1 = np.array((10, 20, 30, 40 ,50))\n",
    "print(nums, nums[4], sep = '\\n')\n",
    "print(f\"Type of nums = {type(nums)}, type of nums1 = {type(nums1)}\")\n",
    "print(f\"Type of elements in nums = {nums.dtype}, Memory = {nums.nbytes}\")"
   ]
  },
  {
   "cell_type": "markdown",
   "id": "82133525",
   "metadata": {},
   "source": [
    "### Multidmensional array\n",
    "<img src=\"images/m_arrays.png\" width=\"400\" height=100>"
   ]
  },
  {
   "cell_type": "code",
   "execution_count": 10,
   "id": "a429eef4",
   "metadata": {},
   "outputs": [
    {
     "name": "stdout",
     "output_type": "stream",
     "text": [
      "[[ 1  2  3  4  5]\n",
      " [ 6  7  8  9 10]]\n",
      "type(nums) = <class 'numpy.ndarray'>\n",
      "type of elements in nums = int64\n",
      "4\n",
      "10\n",
      "nums.ndim =  2\n",
      "nums.shape =  (2, 5)\n",
      "nums.size =  10\n",
      "nums.itemsize =  8\n",
      "nums.nbytes =  80\n"
     ]
    }
   ],
   "source": [
    "# Display properties and specific elements of a 2D numpy array\n",
    "import numpy as np\n",
    "nums = np.array([[1,2,3,4,5],[6,7,8,9,10]])\n",
    "print(nums)\n",
    "print(f\"type(nums) = {type(nums)}\")\n",
    "print(f\"type of elements in nums = {nums.dtype}\")\n",
    "print(nums[0, 3], nums[1, 4], sep = '\\n')\n",
    "print(\"nums.ndim = \", nums.ndim)\n",
    "print(\"nums.shape = \", nums.shape)\n",
    "print(\"nums.size = \", nums.size)\n",
    "print(\"nums.itemsize = \", nums.itemsize)\n",
    "print(\"nums.nbytes = \", nums.nbytes)"
   ]
  },
  {
   "cell_type": "code",
   "execution_count": 29,
   "id": "b4891930",
   "metadata": {},
   "outputs": [
    {
     "name": "stdout",
     "output_type": "stream",
     "text": [
      "[[[ 1  2  3]\n",
      "  [ 4  5  6]\n",
      "  [15 16 17]]\n",
      "\n",
      " [[ 7  8  9]\n",
      "  [10 11 12]\n",
      "  [18 19 20]]]\n",
      "nums.ndim =  3\n",
      "nums.shape =  (2, 3, 3)\n",
      "nums.size =  18\n",
      "nums.itemsize =  8\n",
      "nums.nbytes =  144\n",
      "17\n"
     ]
    }
   ],
   "source": [
    "# Display properties and specific elements of a 3D numpy array\n",
    "import numpy as np\n",
    "nums = np.array([[[1, 2, 3],[4, 5, 6],[15,16,17]],[[7, 8, 9],[10, 11, 12],[18,19,20]]])\n",
    "print(nums)\n",
    "print(\"nums.ndim = \", nums.ndim)\n",
    "print(\"nums.shape = \", nums.shape)\n",
    "print(\"nums.size = \", nums.size)\n",
    "print(\"nums.itemsize = \", nums.itemsize)\n",
    "print(\"nums.nbytes = \", nums.nbytes)\n",
    "print(nums[0, 2, 2])"
   ]
  },
  {
   "cell_type": "code",
   "execution_count": 36,
   "id": "005a9946",
   "metadata": {},
   "outputs": [
    {
     "name": "stdout",
     "output_type": "stream",
     "text": [
      "[[[[1 2]\n",
      "   [5 6]]]\n",
      "\n",
      "\n",
      " [[[3 4]\n",
      "   [7 8]]]]\n",
      "nums.ndim =  4\n",
      "nums.shape =  (2, 1, 2, 2)\n",
      "nums.size =  8\n",
      "nums.itemsize =  8\n",
      "nums.nbytes =  64\n",
      "6\n"
     ]
    },
    {
     "data": {
      "text/plain": [
       "array([[[[1, 2],\n",
       "         [5, 6]]],\n",
       "\n",
       "\n",
       "       [[[3, 4],\n",
       "         [7, 8]]]])"
      ]
     },
     "execution_count": 36,
     "metadata": {},
     "output_type": "execute_result"
    }
   ],
   "source": [
    "# Display properties and specific elements of a 4D numpy array\n",
    "import numpy as np\n",
    "nums = np.array([[[[1,2],[5,6]]],[[[3,4],[7,8]]]])\n",
    "print(nums)\n",
    "print(\"nums.ndim = \", nums.ndim)\n",
    "print(\"nums.shape = \", nums.shape)\n",
    "print(\"nums.size = \", nums.size)\n",
    "print(\"nums.itemsize = \", nums.itemsize)\n",
    "print(\"nums.nbytes = \", nums.nbytes)\n",
    "print(nums[0,0,1,1])\n",
    "nums"
   ]
  },
  {
   "cell_type": "code",
   "execution_count": 37,
   "id": "bb9e3773",
   "metadata": {},
   "outputs": [
    {
     "name": "stdout",
     "output_type": "stream",
     "text": [
      "[ 1  2  3  4  5  6  7  8  9 10]\n",
      "[ 1  2  3  4  5  6  7  8  9 10]\n"
     ]
    }
   ],
   "source": [
    "# Convert a list and a tuple into numpy arrays. The data type of the resulting arrays is determined by the most general type in the input.\n",
    "import numpy as np\n",
    "my_list=[1,2,3,4,5,6,7,8,9,10]\n",
    "nums = np.array(my_list)\n",
    "print(nums)\n",
    "my_tuple=(1,2,3,4,5,6,7,8,9,10)\n",
    "nums1 = np.array(my_tuple)\n",
    "print(nums1)"
   ]
  },
  {
   "cell_type": "code",
   "execution_count": 15,
   "id": "f79feedd",
   "metadata": {},
   "outputs": [
    {
     "name": "stdout",
     "output_type": "stream",
     "text": [
      "[0 1 2 3 4 5 6 7 8 9]\n",
      "[100 101 102 103 104 105 106 107 108 109 110 111 112 113 114 115 116 117\n",
      " 118 119 120 121 122 123 124 125 126 127 128 129]\n",
      "[100 105 110 115 120 125 130 135 140 145 150]\n",
      "[0.   0.25 0.5  0.75 1.  ]\n",
      "[0. 2.]\n"
     ]
    }
   ],
   "source": [
    "# np.arange generates values within a given range with a specified step, while np.linspace generates a specified number of evenly spaced **points** within a range.\n",
    "import numpy as np\n",
    "int_array = np.arange(10)\n",
    "print(int_array)\n",
    "int_array = np.arange(100,130)\n",
    "print(int_array)\n",
    "int_array = np.arange(100,151,5)\n",
    "print(int_array)\n",
    "# linspace\n",
    "floats_array = np.linspace(0, 1, 5)\n",
    "print(floats_array)\n",
    "arr_from_linspace = np.linspace(0, 2, 2)\n",
    "print(arr_from_linspace)"
   ]
  },
  {
   "cell_type": "code",
   "execution_count": 25,
   "id": "512e0164",
   "metadata": {},
   "outputs": [
    {
     "name": "stdout",
     "output_type": "stream",
     "text": [
      "[[0. 0. 0.]\n",
      " [0. 0. 0.]]\n"
     ]
    }
   ],
   "source": [
    "vec = np.zeros([2, 3])\n",
    "print(vec)"
   ]
  },
  {
   "cell_type": "code",
   "execution_count": null,
   "id": "9ad97072",
   "metadata": {},
   "outputs": [
    {
     "name": "stdout",
     "output_type": "stream",
     "text": [
      "[[0 0 0]\n",
      " [0 0 0]]\n",
      "[[1 1 1]\n",
      " [1 1 1]]\n",
      "[[1 1 1]\n",
      " [1 1 1]]\n",
      "[[1. 0. 0. 0. 0.]\n",
      " [0. 1. 0. 0. 0.]\n",
      " [0. 0. 1. 0. 0.]\n",
      " [0. 0. 0. 1. 0.]\n",
      " [0. 0. 0. 0. 1.]]\n"
     ]
    }
   ],
   "source": [
    "arr_from_zeroes = np.zeros((2, 3), np.int64)  # Creates a 2D array of zeros with shape (2, 3). Can also use [2, 3]\n",
    "print(arr_from_zeroes)\n",
    "arr_from_ones = np.ones((2, 3), np.int64)  # Creates a 2D array of ones with shape (2, 3)\n",
    "print(arr_from_ones)\n",
    "arr_from_empty = np.empty((2, 3), np.int64)\n",
    "print(arr_from_empty)\n",
    "arr_from_eye = np.eye(3, 4)  # Creates a 2D identity matrix with shape (3, 4)\n",
    "print(arr_from_eye)\n"
   ]
  },
  {
   "cell_type": "code",
   "execution_count": 46,
   "id": "80fb0b45",
   "metadata": {},
   "outputs": [
    {
     "name": "stdout",
     "output_type": "stream",
     "text": [
      "[0.30865829 0.52352477 0.22291242 0.02940609 0.98984509 0.16789431\n",
      " 0.59445177 0.55459611 0.76467105 0.4300737 ]\n",
      "[[0.43925017 0.33489918 0.67610222]\n",
      " [0.59995064 0.107842   0.4409852 ]\n",
      " [0.84507341 0.79815783 0.01811547]]\n"
     ]
    }
   ],
   "source": [
    "# np.random.rand generates random numbers in the range [0.0, 1.0). The shape of the output array is specified as an argument.\n",
    "import numpy as np\n",
    "my_rand_array = np.random.rand(10)\n",
    "print(my_rand_array)\n",
    "my_rand_array = np.random.rand(3,3)\n",
    "print(my_rand_array)"
   ]
  },
  {
   "cell_type": "code",
   "execution_count": 49,
   "id": "579802b0",
   "metadata": {},
   "outputs": [
    {
     "data": {
      "text/plain": [
       "array([0, 3])"
      ]
     },
     "execution_count": 49,
     "metadata": {},
     "output_type": "execute_result"
    }
   ],
   "source": [
    "import numpy as np\n",
    "my_random_int_array = np.random.randint(0,10,2)\n",
    "my_random_int_array"
   ]
  },
  {
   "cell_type": "code",
   "execution_count": 53,
   "id": "e96a840e",
   "metadata": {},
   "outputs": [
    {
     "data": {
      "text/plain": [
       "array([[5, 5, 5],\n",
       "       [5, 5, 5]])"
      ]
     },
     "execution_count": 53,
     "metadata": {},
     "output_type": "execute_result"
    }
   ],
   "source": [
    "my_array=np.empty(10, dtype=int)\n",
    "my_array.fill(5)\n",
    "my_array\n",
    "my_array=np.full(10, 5, dtype=int)\n",
    "my_array\n",
    "my_array=np.full((2,3), 5, dtype=int)\n",
    "my_array"
   ]
  },
  {
   "cell_type": "markdown",
   "id": "607e633d",
   "metadata": {},
   "source": [
    "<img src=\"images/shape_size.png\" width=\"400\" height=200>"
   ]
  },
  {
   "cell_type": "code",
   "execution_count": 60,
   "id": "a870f1bf",
   "metadata": {},
   "outputs": [
    {
     "data": {
      "text/plain": [
       "array([[100.        , 200.        ,  30.        ],\n",
       "       [ 90.        , 180.        ,  31.11111111],\n",
       "       [ 80.        , 160.        ,  32.22222222],\n",
       "       [ 70.        , 140.        ,  33.33333333],\n",
       "       [ 60.        , 120.        ,  34.44444444],\n",
       "       [ 50.        , 100.        ,  35.55555556],\n",
       "       [ 40.        ,  80.        ,  36.66666667],\n",
       "       [ 30.        ,  60.        ,  37.77777778],\n",
       "       [ 20.        ,  40.        ,  38.88888889],\n",
       "       [ 10.        ,  20.        ,  40.        ]])"
      ]
     },
     "execution_count": 60,
     "metadata": {},
     "output_type": "execute_result"
    }
   ],
   "source": [
    "my_sec_arr = np.linspace((100,200,30),(10,20,40),10)\n",
    "my_sec_arr"
   ]
  },
  {
   "cell_type": "markdown",
   "id": "88badc75",
   "metadata": {},
   "source": [
    "## Manipulate arrays\n",
    "1. insert, append, delete, sort  \n",
    "2. copy, view, base  \n",
    "3. np.reshape(), flattening (reshape(arr, -1)) => shape of an array means number of elements and dimensions of the array. => parameters => shape : a tuple of new shape\n",
    "4. np.flatten => creates copy  \n",
    "5. ravel => creates a view => memory efficient  \n",
    "6. Indexing and slicing => -1 for reverse indexing  \n",
    "7. Concatenate, stack, hstack, vstack  \n",
    "8. split, array_split, hsplit, vsplit"
   ]
  },
  {
   "cell_type": "code",
   "execution_count": 37,
   "id": "be620de8",
   "metadata": {},
   "outputs": [
    {
     "name": "stdout",
     "output_type": "stream",
     "text": [
      "[ 1  2 10  3  4  5]\n",
      "[  1   2  10   3   4   5 999 998]\n",
      "[  1   2  10   3   4 999 998]\n",
      "[  1   2   3   4  10 998 999]\n",
      "[[  1   2   3]\n",
      " [  4   5   6]\n",
      " [  8  77 999]]\n"
     ]
    }
   ],
   "source": [
    "import numpy as np\n",
    "my_a = np.array([1,2,3,4,5], dtype=np.int8)\n",
    "my_a = np.insert(my_a, 2, 10)\n",
    "print(my_a)\n",
    "my_a = np.append(my_a, [999,998])\n",
    "print(my_a)\n",
    "my_a = np.delete(my_a, 5)\n",
    "print(my_a)\n",
    "my_a = np.sort(my_a)\n",
    "print(my_a)\n",
    "my_2_a = np.array([[3,2,1],[4,5,6],[77,8,999]])\n",
    "my_2_a = np.sort(my_2_a)\n",
    "print(my_2_a)\n"
   ]
  },
  {
   "cell_type": "code",
   "execution_count": 38,
   "id": "ab3bc724",
   "metadata": {},
   "outputs": [
    {
     "name": "stdout",
     "output_type": "stream",
     "text": [
      "[100   2   3   4   5]\n",
      "******************\n",
      "my_array = \n",
      " [[[ 1  2  3]\n",
      "  [ 4  5  6]]\n",
      "\n",
      " [[ 7  8  9]\n",
      "  [10 11 12]]]\n",
      "my_array3 = \n",
      " [[[ 1  2  3]\n",
      "  [ 4  5  6]]\n",
      "\n",
      " [[ 7  8  9]\n",
      "  [10 11 12]]]\n",
      "my_array = \n",
      " [[[ 1  2  3]\n",
      "  [ 4  5  6]]\n",
      "\n",
      " [[ 7  8  9]\n",
      "  [10 11 12]]]\n",
      "my_array3 = \n",
      " [[[  1   2   3]\n",
      "  [200   5   6]]\n",
      "\n",
      " [[  7   8   9]\n",
      "  [ 10  11  12]]]\n",
      "id(my_array) = 4411336496, id(my_array3) = 4411332656\n"
     ]
    }
   ],
   "source": [
    "# Assignments do not copy the array, but rather create a reference to the original array. This means that if you modify the new array, the original array will also be modified.\n",
    "import numpy as np\n",
    "my_array = np.array([1,2,3,4,5])\n",
    "my_array2 = my_array\n",
    "my_array2[0] = 100\n",
    "print(my_array)\n",
    "# To create a copy of the array, use the copy() method.\n",
    "print(\"***\"*6)\n",
    "my_array = np.array([[[1,2,3],[4,5,6]],[[7,8,9],[10,11,12]]])\n",
    "my_array3=my_array.copy()\n",
    "print(\"my_array = \\n\",my_array)\n",
    "print(\"my_array3 = \\n\", my_array3)\n",
    "my_array3[0, 1, 0] = 200\n",
    "print(\"my_array = \\n\",my_array)\n",
    "print(\"my_array3 = \\n\", my_array3)\n",
    "print(f\"id(my_array) = {id(my_array)}, id(my_array3) = {id(my_array3)}\")\n",
    "# deepcopy is same as copy in this case\n"
   ]
  },
  {
   "cell_type": "code",
   "execution_count": 48,
   "id": "ff196334",
   "metadata": {},
   "outputs": [
    {
     "name": "stdout",
     "output_type": "stream",
     "text": [
      "f_arr = \n",
      " [ 1  2  3  4  5  6  7  8  9 10 11 12]\n",
      "f_arr = \n",
      " [[ 1  2  3  4]\n",
      " [ 5  6  7  8]\n",
      " [ 9 10 11 12]]\n",
      "f_arr = \n",
      " [[[ 1  2  3]\n",
      "  [ 4  5  6]]\n",
      "\n",
      " [[ 7  8  9]\n",
      "  [10 11 12]]]\n",
      "f_arr = \n",
      " [[ 1  2  3]\n",
      " [ 4  5  6]\n",
      " [ 7  8  9]\n",
      " [10 11 12]]\n"
     ]
    }
   ],
   "source": [
    "import numpy as np\n",
    "f_arr = np.arange(1,13)\n",
    "print(\"f_arr = \\n\" ,f_arr)\n",
    "f_arr = f_arr.reshape((3,4))\n",
    "print(\"f_arr = \\n\" ,f_arr)\n",
    "f_arr = f_arr.reshape(2,2,3)\n",
    "print(\"f_arr = \\n\" ,f_arr)\n",
    "f_arr = np.reshape(f_arr, (4,3))\n",
    "print(\"f_arr = \\n\" ,f_arr)"
   ]
  },
  {
   "cell_type": "code",
   "execution_count": 40,
   "id": "22270818",
   "metadata": {},
   "outputs": [
    {
     "name": "stdout",
     "output_type": "stream",
     "text": [
      "[[ 0  1  2  3]\n",
      " [ 4  5  6  7]\n",
      " [ 8  9 10 11]]\n",
      "7\n",
      "[ 8  9 10 11]\n"
     ]
    }
   ],
   "source": [
    "import numpy as np\n",
    "my_arr = np.reshape(np.arange(12), (3,4))\n",
    "print(my_arr)\n",
    "print(my_arr[1,3])\n",
    "print(my_arr[2])\n",
    "\n"
   ]
  },
  {
   "cell_type": "code",
   "execution_count": 41,
   "id": "71fadce4",
   "metadata": {},
   "outputs": [
    {
     "name": "stdout",
     "output_type": "stream",
     "text": [
      "[[ 1  2  3  4]\n",
      " [ 5  6  7  8]\n",
      " [ 9 10 11 12]]\n",
      "[[ 6  7  8]\n",
      " [10 11 12]]\n",
      "[5 6 7 8]\n",
      "[ 3  7 11]\n"
     ]
    }
   ],
   "source": [
    "import numpy as np\n",
    "my_array = np.reshape(np.arange(1,13), (3,4))\n",
    "print(my_array)\n",
    "print(my_array[1:,1:])\n",
    "print(my_array[1,:])\n",
    "print(my_array[:,2])"
   ]
  },
  {
   "cell_type": "code",
   "execution_count": 42,
   "id": "385fbc1d",
   "metadata": {},
   "outputs": [
    {
     "name": "stdout",
     "output_type": "stream",
     "text": [
      "[[ 1  2  3  4  5]\n",
      " [ 6  7  8  9 10]]\n",
      "[[21 22 23 24 25]\n",
      " [26 27 28 29 30]]\n",
      "[[ 1  2  3  4  5]\n",
      " [ 6  7  8  9 10]\n",
      " [21 22 23 24 25]\n",
      " [26 27 28 29 30]]\n",
      "[[ 1  2  3  4  5 21 22 23 24 25]\n",
      " [ 6  7  8  9 10 26 27 28 29 30]]\n"
     ]
    }
   ],
   "source": [
    "import numpy as np\n",
    "f_arr = np.reshape(np.arange(1,11), (2,5))\n",
    "s_arr = np.reshape(np.arange(21,31), (2,5))\n",
    "print(f_arr)\n",
    "print(s_arr)\n",
    "print(np.concatenate((f_arr, s_arr), axis=0))\n",
    "print(np.concatenate((f_arr, s_arr), axis=1))"
   ]
  },
  {
   "cell_type": "code",
   "execution_count": 43,
   "id": "1221af64",
   "metadata": {},
   "outputs": [
    {
     "name": "stdout",
     "output_type": "stream",
     "text": [
      "[[ 1  2  3  4  5]\n",
      " [ 6  7  8  9 10]]\n",
      "[[ 1  2  3  4  5]\n",
      " [ 6  7  8  9 10]]\n",
      "[ 1  2  3  4  5  6  7  8  9 10]\n"
     ]
    }
   ],
   "source": [
    "import numpy as np\n",
    "my_array1 = np.array([1,2,3,4,5])\n",
    "my_array2 = np.array([6,7,8,9,10])\n",
    "my_array3 = np.stack((my_array1, my_array2))\n",
    "print(my_array3)\n",
    "my_array4 = np.vstack((my_array1, my_array2))\n",
    "print(my_array4)\n",
    "my_array5 = np.hstack((my_array1, my_array2))\n",
    "print(my_array5)"
   ]
  },
  {
   "cell_type": "markdown",
   "id": "a16c1418",
   "metadata": {},
   "source": [
    "### Operations\n",
    "+, -, *, /, exponentiation, Specific functions to perform on them => Vectorization => Operation can be executed in parallel on multiple elements of the array. Can also use np.add(), np.subtract(), np.multiply(), np.divide(),np.mod(), np.power(), np.sqrt()  \n",
    "Broadcasting  \n",
    "Aggregate functions, .sum, .prod, .average, .min, .max, .mean, .std  \n",
    "np.unique  \n",
    "Transpose, moveaxis, swapaxes  \n",
    "Reverse => slicing, flip function   \n",
    "\n"
   ]
  },
  {
   "cell_type": "code",
   "execution_count": 44,
   "id": "e746bc13",
   "metadata": {},
   "outputs": [
    {
     "name": "stdout",
     "output_type": "stream",
     "text": [
      "a =  [ 1  2  3  4  5  6  7  8  9 10]\n",
      "b =  [21 22 23 24 25 26 27 28 29 30]\n",
      "c =  [ 2  3  4  5  6  7  8  9 10 11]\n",
      "[22 24 26 28 30 32 34 36 38 40]\n",
      "[-20 -20 -20 -20 -20 -20 -20 -20 -20 -20]\n",
      "[ 21  44  69  96 125 156 189 224 261 300]\n",
      "[0.04761905 0.09090909 0.13043478 0.16666667 0.2        0.23076923\n",
      " 0.25925926 0.28571429 0.31034483 0.33333333]\n",
      "[           1            8           81         1024        15625\n",
      "       279936      5764801    134217728   3486784401 100000000000]\n",
      "[0 0 0 0 0 0 0 0 0 0]\n"
     ]
    }
   ],
   "source": [
    "import numpy as np\n",
    "a = np.arange(1,11)\n",
    "b = np.arange(21,31)\n",
    "c = np.arange(2,12)\n",
    "print(\"a = \", a)\n",
    "print(\"b = \",b)\n",
    "print(\"c = \",c)\n",
    "print(a+b)\n",
    "print(a-b)\n",
    "print(a*b)\n",
    "print(a/b)\n",
    "print(a**c)\n",
    "print(a//c)"
   ]
  },
  {
   "cell_type": "code",
   "execution_count": 45,
   "id": "7df98d1a",
   "metadata": {},
   "outputs": [
    {
     "name": "stdout",
     "output_type": "stream",
     "text": [
      "my_array = \n",
      " [[[ 1  2  3]\n",
      "  [ 4  5  6]\n",
      "  [ 7  8  9]]\n",
      "\n",
      " [[11 12 13]\n",
      "  [14 15 16]\n",
      "  [17 18 19]]\n",
      "\n",
      " [[21 22 23]\n",
      "  [24 25 26]\n",
      "  [27 28 29]]]\n",
      "Shape of my_array =  (3, 3, 3)\n",
      "Sum along axis 0 = \n",
      " [[33 36 39]\n",
      " [42 45 48]\n",
      " [51 54 57]] its shape =  (3, 3)\n",
      "Sum along axis 1 = \n",
      " [[12 15 18]\n",
      " [42 45 48]\n",
      " [72 75 78]] its shape =  (3, 3)\n",
      "Sum along axis 2 = \n",
      " [[ 6 15 24]\n",
      " [36 45 54]\n",
      " [66 75 84]] its shape =  (3, 3)\n"
     ]
    }
   ],
   "source": [
    "# Axis\n",
    "import numpy as np\n",
    "my_array = np.array([[[1,2,3],[4,5,6],[7,8,9]], [[11,12,13],[14,15,16],[17,18,19]], [[21,22,23],[24,25,26],[27,28,29]]])\n",
    "print(\"my_array = \\n\", my_array)\n",
    "print(\"Shape of my_array = \", my_array.shape)\n",
    "\n",
    "print(\"Sum along axis 0 = \\n\", np.sum(my_array, axis=0), \"its shape = \", np.sum(my_array, axis=0).shape)\n",
    "print(\"Sum along axis 1 = \\n\", np.sum(my_array, axis=1), \"its shape = \", np.sum(my_array, axis=1).shape)\n",
    "print(\"Sum along axis 2 = \\n\", np.sum(my_array, axis=2), \"its shape = \", np.sum(my_array, axis=2).shape)\n"
   ]
  },
  {
   "cell_type": "code",
   "execution_count": 46,
   "id": "ba3c5fc1",
   "metadata": {},
   "outputs": [],
   "source": [
    "# Arithmentic operations on unequal arrays. Broadcasting is used to perform the operations.\n",
    "# The term broadcasting describes how NumPy treats arrays with different shapes during arithmetic operations.\n",
    "# Subject to certian constraints, the smaller array is broadcast across the larger array so that they have compatible shapes.\n",
    "\n"
   ]
  },
  {
   "cell_type": "code",
   "execution_count": 47,
   "id": "5487a742",
   "metadata": {},
   "outputs": [
    {
     "name": "stdout",
     "output_type": "stream",
     "text": [
      "<class 'numpy.ndarray'>\n",
      "<class 'list'> [1, 2, 3, 4, 5]\n"
     ]
    }
   ],
   "source": [
    "import numpy as np\n",
    "my_array1 = np.array([1,2,3,4,5,3,2,1])\n",
    "my_unique_arr = np.unique(my_array1)\n",
    "print(type(my_unique_arr))\n",
    "\n",
    "my_list_from_array = my_unique_arr.tolist()\n",
    "print(type(my_list_from_array), my_list_from_array)\n"
   ]
  },
  {
   "cell_type": "markdown",
   "id": "23554f3e",
   "metadata": {},
   "source": [
    "## Trignometric functions, arithmetic functions\n",
    "1. np.sin()  \n",
    "2. np.cos()  \n",
    "3. np.tan()  \n",
    "4. np.exp() => e to the power of\n",
    "5. np.log() => base e, np.log10(), np.log2()\n",
    "\n",
    "6. +, -, *, /\n",
    "\n",
    "7. @ => linear algebra matrix multiplication => also called dot product\n",
    "8. Transpose of a matrix (.T), np.transpose()\n"
   ]
  },
  {
   "cell_type": "code",
   "execution_count": 62,
   "id": "10f0334f",
   "metadata": {},
   "outputs": [
    {
     "name": "stdout",
     "output_type": "stream",
     "text": [
      "sine function =  -0.7568024953079283\n",
      "cosine function =  -0.6536436208636119\n",
      "tan function =  1.1578212823495775\n",
      "exponenetial function =  [  7.3890561   54.59815003 403.42879349]\n",
      "10\n"
     ]
    }
   ],
   "source": [
    "print(\"sine function = \", np.sin(4))\n",
    "print(\"cosine function = \", np.cos(4))\n",
    "print(\"tan function = \", np.tan(4))\n",
    "print(\"exponenetial function = \", np.exp(np.array([2, 4, 6])))\n",
    "print(np.arange(5).sum())\n",
    "\n"
   ]
  },
  {
   "cell_type": "code",
   "execution_count": 69,
   "id": "91c39f2e",
   "metadata": {},
   "outputs": [
    {
     "name": "stdout",
     "output_type": "stream",
     "text": [
      "[[1 2 3]\n",
      " [4 5 6]\n",
      " [7 8 9]]\n",
      "[[11 12 13]\n",
      " [14 15 16]\n",
      " [17 18 19]]\n",
      "[[ 11  24  39]\n",
      " [ 56  75  96]\n",
      " [119 144 171]]\n",
      "[[ 90  96 102]\n",
      " [216 231 246]\n",
      " [342 366 390]]\n",
      "[[ 90  96 102]\n",
      " [216 231 246]\n",
      " [342 366 390]]\n",
      "Transpose of matrix1 = \n",
      " [[1 4 7]\n",
      " [2 5 8]\n",
      " [3 6 9]]\n",
      "Transpose of matrix2 = \n",
      " [[1 4 7]\n",
      " [2 5 8]\n",
      " [3 6 9]]\n"
     ]
    }
   ],
   "source": [
    "matrix1 = np.arange(1, 10).reshape(3, 3)\n",
    "matrix2 = np.arange(11, 20).reshape(3, 3)\n",
    "print(matrix1)\n",
    "print(matrix2)\n",
    "print(matrix1 * matrix2)  # Element-wise multiplication\n",
    "print(np.dot(matrix1, matrix2))\n",
    "print(matrix1 @ matrix2)  # Matrix multiplication using the @ operator\n",
    "# Transpose of a matrix\n",
    "print(\"Transpose of matrix1 = \\n\", matrix1.T)\n",
    "print(\"Transpose of matrix2 = \\n\", np.transpose(matrix1))"
   ]
  },
  {
   "cell_type": "code",
   "execution_count": 67,
   "id": "45a1db65",
   "metadata": {},
   "outputs": [
    {
     "name": "stdout",
     "output_type": "stream",
     "text": [
      "arr1 =  [1 2 3 4 5]\n",
      "arr2 =  [3 4 5 6 7]\n",
      "Addition =  [ 4  6  8 10 12]\n",
      "Subtraction =  [-2 -2 -2 -2 -2]\n",
      "Multiplication =  [ 3  8 15 24 35]\n",
      "Division =  [0.33333333 0.5        0.6        0.66666667 0.71428571]\n",
      "Floor Division =  [0 0 0 0 0]\n",
      "Exponentiation =  [    1    16   243  4096 78125]\n",
      "Modulus =  [1 2 3 4 5]\n",
      "Inverse =  [1.         0.5        0.33333333 0.25       0.2       ]\n",
      "[5 4 3 2 1]\n"
     ]
    }
   ],
   "source": [
    "arr1 = np.arange(1, 6)\n",
    "arr2 = np.arange(3, 8)\n",
    "print(\"arr1 = \", arr1)\n",
    "print(\"arr2 = \", arr2)\n",
    "\n",
    "\n",
    "print('Addition = ', arr1 + arr2)\n",
    "print('Subtraction = ', arr1 - arr2)\n",
    "print('Multiplication = ', arr1 * arr2)\n",
    "print('Division = ', arr1 / arr2)\n",
    "print('Floor Division = ', arr1 // arr2)\n",
    "print('Exponentiation = ', arr1 ** arr2)\n",
    "print('Modulus = ', arr1 % arr2)\n",
    "print('Inverse = ', 1 / arr1)\n",
    "\n",
    "print(arr1[::-1])"
   ]
  },
  {
   "cell_type": "code",
   "execution_count": 79,
   "id": "ddd97337",
   "metadata": {},
   "outputs": [
    {
     "name": "stdout",
     "output_type": "stream",
     "text": [
      "[[ 1. inf]\n",
      " [inf  4.]]\n"
     ]
    },
    {
     "name": "stderr",
     "output_type": "stream",
     "text": [
      "/var/folders/y7/j6gtt94n4n579l19ydymnm8r0000gn/T/ipykernel_58969/316845429.py:3: RuntimeWarning: divide by zero encountered in divide\n",
      "  print(vec1/vec2) # divide by zero gives runtime error, but the result is NaN\n"
     ]
    }
   ],
   "source": [
    "vec1 = np.arange(1,5).reshape(2, 2)\n",
    "vec2 = np.eye(2)\n",
    "print(vec1/vec2) # divide by zero gives runtime error, but the result is NaN"
   ]
  },
  {
   "cell_type": "markdown",
   "id": "4bcfee92",
   "metadata": {},
   "source": [
    "## Min, Max and Random values\n",
    "1. np.min()  \n",
    "2. np.max()  \n",
    "3. np.random.rand(d0, d1) => elements are drawn randomly from the uniform distribution over [0,1) => d0 and d1 are dimesion and d1 is optional\n",
    "4. np.random.randint(low, high, size)  \n",
    "5. np.random.randn(d0, d1) => n stands for normal => generates a matrix filled with random floats sampled from a univariate “normal” (Gaussian) distribution of mean 0 and variance 1.  \n",
    "6. np.mean(matrix), np.std(matrix)  "
   ]
  },
  {
   "cell_type": "code",
   "execution_count": 86,
   "id": "c97f84ea",
   "metadata": {},
   "outputs": [
    {
     "name": "stdout",
     "output_type": "stream",
     "text": [
      "Random matrix = \n",
      " [0.95359837 0.55768402 0.17970266 0.82142854 0.05894091]\n",
      "Random matrix = \n",
      " [[0.00355022 0.55054242 0.24781546 0.49620237 0.41230635]\n",
      " [0.96796377 0.41766207 0.13985145 0.01965625 0.01633703]\n",
      " [0.56805971 0.41273559 0.53364528 0.06198364 0.89720782]\n",
      " [0.364178   0.58833801 0.69050835 0.29550126 0.3644969 ]\n",
      " [0.08218617 0.45586541 0.79745324 0.0050799  0.65955564]]\n",
      "Random matrix = \n",
      " [[[0.36576812 0.70034395 0.2714835 ]\n",
      "  [0.24847908 0.96458306 0.78446271]\n",
      "  [0.55692048 0.96568623 0.47357487]]\n",
      "\n",
      " [[0.53202699 0.34890098 0.10789222]\n",
      "  [0.79808528 0.69017877 0.78243513]\n",
      "  [0.04151154 0.01071074 0.75618415]]\n",
      "\n",
      " [[0.99676716 0.22040004 0.11048418]\n",
      "  [0.902262   0.806998   0.26445521]\n",
      "  [0.28771221 0.45709927 0.22588874]]]\n"
     ]
    }
   ],
   "source": [
    "rand_mat = np.random.rand(5)\n",
    "print(\"Random matrix = \\n\", rand_mat)\n",
    "rand_mat = np.random.rand(5, 5)\n",
    "print(\"Random matrix = \\n\", rand_mat)\n",
    "rand_mat = np.random.rand(3, 3, 3)\n",
    "print(\"Random matrix = \\n\", rand_mat)"
   ]
  },
  {
   "cell_type": "code",
   "execution_count": 87,
   "id": "ab973ebe",
   "metadata": {},
   "outputs": [
    {
     "name": "stdout",
     "output_type": "stream",
     "text": [
      "-9\n",
      "-1\n"
     ]
    }
   ],
   "source": [
    "mat1 = np.arange(-9, 0, 1).reshape(3, 3)\n",
    "print(np.min(mat1))  \n",
    "print(np.max(mat1))"
   ]
  },
  {
   "cell_type": "markdown",
   "id": "a7d57a9c",
   "metadata": {},
   "source": [
    "## Accessing entries of NumPy array\n",
    "Negative indexing retrieves elements from the end, and tuple indexing can access multidimesional array elements.\n",
    "Logical indexing"
   ]
  },
  {
   "cell_type": "code",
   "execution_count": 102,
   "id": "fe6d932a",
   "metadata": {},
   "outputs": [
    {
     "name": "stdout",
     "output_type": "stream",
     "text": [
      "Random array =  [ 1.09237394  1.95450502  0.64683801  0.86909047 -0.05738265  0.35883318\n",
      " -1.01991862  2.28342399  0.17067402 -0.21087781]\n",
      "-1.0199186178214832\n",
      "[-0.05738265  0.35883318 -1.01991862  2.28342399  0.17067402]\n",
      "Index of value to access:  [3 6 9] <class 'numpy.ndarray'>\n",
      "[ 0.86909047 -1.01991862 -0.21087781]\n",
      "[1.09237394 1.95450502 0.64683801]\n",
      "[1.09237394 1.95450502 0.64683801]\n",
      "[ True  True  True  True False  True False  True  True False]\n",
      "Values greater than 0:  [1.09237394 1.95450502 0.64683801 0.86909047 0.35883318 2.28342399\n",
      " 0.17067402]\n",
      "Values less than 0:  [-0.05738265 -1.01991862 -0.21087781]\n",
      "Values between 0 and 1:  [0.64683801 0.86909047 0.35883318 0.17067402]\n",
      "Values between -1 and 1:  [ 0.64683801  0.86909047 -0.05738265  0.35883318  0.17067402 -0.21087781]\n"
     ]
    }
   ],
   "source": [
    "rand_arry = np.random.randn(10)\n",
    "print(\"Random array = \", rand_arry)\n",
    "\n",
    "print(rand_arry[6])\n",
    "print(rand_arry[4:9])\n",
    "\n",
    "print('Index of value to access: ', np.arange(3, 10, 3), type(np.arange(3, 10, 3)))\n",
    "print(rand_arry[np.arange(3, 10, 3)])\n",
    "print(rand_arry[np.array([0, 1, 2])])\n",
    "print(rand_arry[[0, 1, 2]])\n",
    "\n",
    "print(rand_arry>0)\n",
    "print('Values greater than 0: ', rand_arry[rand_arry>0])\n",
    "print('Values less than 0: ', rand_arry[rand_arry<0])\n",
    "print('Values between 0 and 1: ', rand_arry[(rand_arry>0) & (rand_arry<1)])\n",
    "print('Values between -1 and 1: ', rand_arry[(rand_arry>-1) & (rand_arry<1)])\n"
   ]
  },
  {
   "cell_type": "code",
   "execution_count": 112,
   "id": "64da8fed",
   "metadata": {},
   "outputs": [
    {
     "name": "stdout",
     "output_type": "stream",
     "text": [
      "Random matrix = \n",
      " [[ 4.09272853e-01  2.72813285e-01 -2.33906089e-01  1.72933559e-02\n",
      "   9.11640547e-01]\n",
      " [-7.34673901e-01 -2.00419127e-01 -2.54853121e-01 -8.58486142e-01\n",
      "   6.46591381e-01]\n",
      " [ 1.36160081e+00  1.79255093e+00 -3.95303630e-01 -6.34402730e-01\n",
      "  -1.68253426e+00]\n",
      " [-1.50064670e+00  2.20533781e+00  7.02913992e-02  1.24124682e-01\n",
      "  -2.23801976e+00]\n",
      " [ 1.49802924e+00  1.95431276e+00  1.55183285e-01 -2.91221164e-01\n",
      "   1.84156405e-03]]\n",
      "[-0.7346739  -0.20041913 -0.25485312 -0.85848614  0.64659138]\n",
      "-0.2548531211155543 -0.2548531211155543\n",
      "[[ 0.27281329 -0.23390609]\n",
      " [-0.20041913 -0.25485312]]\n",
      "<class 'numpy.ndarray'> (14,) [4.09272853e-01 2.72813285e-01 1.72933559e-02 9.11640547e-01\n",
      " 6.46591381e-01 1.36160081e+00 1.79255093e+00 2.20533781e+00\n",
      " 7.02913992e-02 1.24124682e-01 1.49802924e+00 1.95431276e+00\n",
      " 1.55183285e-01 1.84156405e-03]\n",
      "[-0.23390609 -0.7346739  -0.20041913 -0.25485312 -0.85848614 -0.39530363\n",
      " -0.63440273 -1.68253426 -1.5006467  -2.23801976 -0.29122116]\n"
     ]
    }
   ],
   "source": [
    "# access values in a matrix\n",
    "rand_mat = np.random.randn(5, 5)\n",
    "print(\"Random matrix = \\n\", rand_mat)\n",
    "\n",
    "print(rand_mat[1])\n",
    "print(rand_mat[1, 2], rand_mat[1] [2])  # Accessing a specific element\n",
    "print(rand_mat[0:2,1:3]) # accessing first two rows with second and third column\n",
    "\n",
    "# accessing matrices using logical indexing\n",
    "sub_matrix = rand_mat[rand_mat > 0]\n",
    "print(type(sub_matrix), sub_matrix.shape, sub_matrix)  # Accessing all positive values\n",
    "print(rand_mat[rand_mat < 0])  # Accessing all negative values"
   ]
  },
  {
   "cell_type": "markdown",
   "id": "ce7b65d8",
   "metadata": {},
   "source": [
    "## Modifying entries of NumPy array"
   ]
  }
 ],
 "metadata": {
  "kernelspec": {
   "display_name": ".venv",
   "language": "python",
   "name": "python3"
  },
  "language_info": {
   "codemirror_mode": {
    "name": "ipython",
    "version": 3
   },
   "file_extension": ".py",
   "mimetype": "text/x-python",
   "name": "python",
   "nbconvert_exporter": "python",
   "pygments_lexer": "ipython3",
   "version": "3.12.7"
  }
 },
 "nbformat": 4,
 "nbformat_minor": 5
}
